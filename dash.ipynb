{
  "cells": [
    {
      "cell_type": "markdown",
      "metadata": {
        "id": "8yJ6yWRdIFRL"
      },
      "source": [
        "# Dash: Personal Agent with GraphRAG & NVIDIA cuGraph\n",
        "\n",
        "In today's digital world, we're drowning in information across dozens of platforms while juggling countless tasks. What if everyone had their own personal AI agent - not just another chatbot, but a truly personalized assistant that remembers everything about you, learns your preferences, and takes meaningful actions on your behalf? Dash was born from this vision of AI that works for you, understands you, and evolves with you - creating a future where personal agents transform how we interact with technology and manage our digital lives."
      ]
    },
    {
      "cell_type": "markdown",
      "metadata": {
        "id": "j7MHNF_8J6MD"
      },
      "source": [
        "\n",
        "## Setup Project Repository\n",
        "This cell clones the Dash repository and installs the required dependencies.\n"
      ]
    },
    {
      "cell_type": "code",
      "execution_count": null,
      "metadata": {
        "colab": {
          "base_uri": "https://localhost:8080/"
        },
        "collapsed": true,
        "id": "3uW1RKCMVtI7",
        "outputId": "90a765c5-560b-480f-a78a-ddcf74170869"
      },
      "outputs": [
        {
          "name": "stdout",
          "output_type": "stream",
          "text": [
            "Cloning into 'dash'...\n",
            "remote: Enumerating objects: 816, done.\u001b[K\n",
            "remote: Counting objects: 100% (110/110), done.\u001b[K\n",
            "remote: Compressing objects: 100% (72/72), done.\u001b[K\n",
            "remote: Total 816 (delta 72), reused 63 (delta 38), pack-reused 706 (from 1)\u001b[K\n",
            "Receiving objects: 100% (816/816), 8.53 MiB | 7.04 MiB/s, done.\n",
            "Resolving deltas: 100% (484/484), done.\n"
          ]
        }
      ],
      "source": [
        "!git clone https://github.com/NavpreetDevpuri/dash.git"
      ]
    },
    {
      "cell_type": "code",
      "execution_count": null,
      "metadata": {
        "colab": {
          "base_uri": "https://localhost:8080/",
          "height": 1000
        },
        "collapsed": true,
        "id": "sOE5IL84V_cQ",
        "outputId": "f05a4ac0-14e2-4c33-ea13-e1126277c2f0"
      },
      "outputs": [
        {
          "name": "stdout",
          "output_type": "stream",
          "text": [
            "Requirement already satisfied: Flask in /usr/local/lib/python3.11/dist-packages (from -r dash/backend/requirements.txt (line 1)) (3.1.0)\n",
            "Collecting Flask-Bcrypt (from -r dash/backend/requirements.txt (line 2))\n",
            "  Downloading Flask_Bcrypt-1.0.1-py3-none-any.whl.metadata (2.6 kB)\n",
            "Collecting Flask-Login (from -r dash/backend/requirements.txt (line 3))\n",
            "  Downloading Flask_Login-0.6.3-py3-none-any.whl.metadata (5.8 kB)\n",
            "Collecting Flask-SQLAlchemy (from -r dash/backend/requirements.txt (line 4))\n",
            "  Downloading flask_sqlalchemy-3.1.1-py3-none-any.whl.metadata (3.4 kB)\n",
            "Collecting Flask-Mail (from -r dash/backend/requirements.txt (line 5))\n",
            "  Downloading flask_mail-0.10.0-py3-none-any.whl.metadata (2.1 kB)\n",
            "Collecting Flask-WTF (from -r dash/backend/requirements.txt (line 6))\n",
            "  Downloading flask_wtf-1.2.2-py3-none-any.whl.metadata (3.4 kB)\n",
            "Collecting flask_socketio (from -r dash/backend/requirements.txt (line 7))\n",
            "  Downloading Flask_SocketIO-5.5.1-py3-none-any.whl.metadata (2.6 kB)\n",
            "Collecting flask-cors (from -r dash/backend/requirements.txt (line 8))\n",
            "  Downloading flask_cors-5.0.1-py3-none-any.whl.metadata (961 bytes)\n",
            "Requirement already satisfied: Werkzeug in /usr/local/lib/python3.11/dist-packages (from -r dash/backend/requirements.txt (line 9)) (3.1.3)\n",
            "Requirement already satisfied: itsdangerous in /usr/local/lib/python3.11/dist-packages (from -r dash/backend/requirements.txt (line 10)) (2.2.0)\n",
            "Requirement already satisfied: pyjwt in /usr/local/lib/python3.11/dist-packages (from -r dash/backend/requirements.txt (line 11)) (2.10.1)\n",
            "Requirement already satisfied: pytz in /usr/local/lib/python3.11/dist-packages (from -r dash/backend/requirements.txt (line 12)) (2025.1)\n",
            "Requirement already satisfied: requests in /usr/local/lib/python3.11/dist-packages (from -r dash/backend/requirements.txt (line 13)) (2.32.3)\n",
            "Collecting python-dotenv (from -r dash/backend/requirements.txt (line 14))\n",
            "  Downloading python_dotenv-1.0.1-py3-none-any.whl.metadata (23 kB)\n",
            "Requirement already satisfied: langchain in /usr/local/lib/python3.11/dist-packages (from -r dash/backend/requirements.txt (line 15)) (0.3.20)\n",
            "Collecting langchain-openai (from -r dash/backend/requirements.txt (line 16))\n",
            "  Downloading langchain_openai-0.3.8-py3-none-any.whl.metadata (2.3 kB)\n",
            "Collecting langgraph (from -r dash/backend/requirements.txt (line 17))\n",
            "  Downloading langgraph-0.3.5-py3-none-any.whl.metadata (17 kB)\n",
            "Requirement already satisfied: pydantic in /usr/local/lib/python3.11/dist-packages (from -r dash/backend/requirements.txt (line 18)) (2.10.6)\n",
            "Collecting email-validator (from -r dash/backend/requirements.txt (line 19))\n",
            "  Downloading email_validator-2.2.0-py3-none-any.whl.metadata (25 kB)\n",
            "Collecting python-arango (from -r dash/backend/requirements.txt (line 20))\n",
            "  Downloading python_arango-8.1.6-py3-none-any.whl.metadata (8.2 kB)\n",
            "Requirement already satisfied: pytest in /usr/local/lib/python3.11/dist-packages (from -r dash/backend/requirements.txt (line 21)) (8.3.5)\n",
            "Collecting waitress (from -r dash/backend/requirements.txt (line 22))\n",
            "  Downloading waitress-3.0.2-py3-none-any.whl.metadata (5.8 kB)\n",
            "Collecting langgraph-checkpoint-sqlite (from -r dash/backend/requirements.txt (line 23))\n",
            "  Downloading langgraph_checkpoint_sqlite-2.0.6-py3-none-any.whl.metadata (3.0 kB)\n",
            "Collecting apsw (from -r dash/backend/requirements.txt (line 24))\n",
            "  Downloading apsw-3.49.1.0-cp311-cp311-manylinux_2_17_x86_64.manylinux2014_x86_64.whl.metadata (3.7 kB)\n",
            "Collecting flask_swagger_ui (from -r dash/backend/requirements.txt (line 26))\n",
            "  Downloading flask_swagger_ui-4.11.1-py3-none-any.whl.metadata (2.4 kB)\n",
            "Collecting celery (from -r dash/backend/requirements.txt (line 27))\n",
            "  Downloading celery-5.4.0-py3-none-any.whl.metadata (21 kB)\n",
            "Collecting langchain_anthropic (from -r dash/backend/requirements.txt (line 28))\n",
            "  Downloading langchain_anthropic-0.3.9-py3-none-any.whl.metadata (1.9 kB)\n",
            "Collecting langchain_google_genai (from -r dash/backend/requirements.txt (line 29))\n",
            "  Downloading langchain_google_genai-2.0.11-py3-none-any.whl.metadata (3.6 kB)\n",
            "Collecting langchain_community (from -r dash/backend/requirements.txt (line 30))\n",
            "  Downloading langchain_community-0.3.19-py3-none-any.whl.metadata (2.4 kB)\n",
            "Requirement already satisfied: tqdm in /usr/local/lib/python3.11/dist-packages (from -r dash/backend/requirements.txt (line 31)) (4.67.1)\n",
            "Requirement already satisfied: networkx in /usr/local/lib/python3.11/dist-packages (from -r dash/backend/requirements.txt (line 32)) (3.4.2)\n",
            "Requirement already satisfied: markdown in /usr/local/lib/python3.11/dist-packages (from -r dash/backend/requirements.txt (line 33)) (3.7)\n",
            "Collecting nx_arangodb (from -r dash/backend/requirements.txt (line 34))\n",
            "  Downloading nx_arangodb-1.3.0-py3-none-any.whl.metadata (9.3 kB)\n",
            "Collecting llm-sandbox[docker] (from -r dash/backend/requirements.txt (line 25))\n",
            "  Downloading llm_sandbox-0.2.3-py3-none-any.whl.metadata (10 kB)\n",
            "Requirement already satisfied: Jinja2>=3.1.2 in /usr/local/lib/python3.11/dist-packages (from Flask->-r dash/backend/requirements.txt (line 1)) (3.1.6)\n",
            "Requirement already satisfied: click>=8.1.3 in /usr/local/lib/python3.11/dist-packages (from Flask->-r dash/backend/requirements.txt (line 1)) (8.1.8)\n",
            "Requirement already satisfied: blinker>=1.9 in /usr/local/lib/python3.11/dist-packages (from Flask->-r dash/backend/requirements.txt (line 1)) (1.9.0)\n",
            "Collecting bcrypt>=3.1.1 (from Flask-Bcrypt->-r dash/backend/requirements.txt (line 2))\n",
            "  Downloading bcrypt-4.3.0-cp39-abi3-manylinux_2_34_x86_64.whl.metadata (10 kB)\n",
            "Requirement already satisfied: sqlalchemy>=2.0.16 in /usr/local/lib/python3.11/dist-packages (from Flask-SQLAlchemy->-r dash/backend/requirements.txt (line 4)) (2.0.38)\n",
            "Collecting wtforms (from Flask-WTF->-r dash/backend/requirements.txt (line 6))\n",
            "  Downloading wtforms-3.2.1-py3-none-any.whl.metadata (5.3 kB)\n",
            "Collecting python-socketio>=5.12.0 (from flask_socketio->-r dash/backend/requirements.txt (line 7))\n",
            "  Downloading python_socketio-5.12.1-py3-none-any.whl.metadata (3.2 kB)\n",
            "Requirement already satisfied: MarkupSafe>=2.1.1 in /usr/local/lib/python3.11/dist-packages (from Werkzeug->-r dash/backend/requirements.txt (line 9)) (3.0.2)\n",
            "Requirement already satisfied: charset-normalizer<4,>=2 in /usr/local/lib/python3.11/dist-packages (from requests->-r dash/backend/requirements.txt (line 13)) (3.4.1)\n",
            "Requirement already satisfied: idna<4,>=2.5 in /usr/local/lib/python3.11/dist-packages (from requests->-r dash/backend/requirements.txt (line 13)) (3.10)\n",
            "Requirement already satisfied: urllib3<3,>=1.21.1 in /usr/local/lib/python3.11/dist-packages (from requests->-r dash/backend/requirements.txt (line 13)) (2.3.0)\n",
            "Requirement already satisfied: certifi>=2017.4.17 in /usr/local/lib/python3.11/dist-packages (from requests->-r dash/backend/requirements.txt (line 13)) (2025.1.31)\n",
            "Requirement already satisfied: langchain-core<1.0.0,>=0.3.41 in /usr/local/lib/python3.11/dist-packages (from langchain->-r dash/backend/requirements.txt (line 15)) (0.3.41)\n",
            "Requirement already satisfied: langchain-text-splitters<1.0.0,>=0.3.6 in /usr/local/lib/python3.11/dist-packages (from langchain->-r dash/backend/requirements.txt (line 15)) (0.3.6)\n",
            "Requirement already satisfied: langsmith<0.4,>=0.1.17 in /usr/local/lib/python3.11/dist-packages (from langchain->-r dash/backend/requirements.txt (line 15)) (0.3.11)\n",
            "Requirement already satisfied: PyYAML>=5.3 in /usr/local/lib/python3.11/dist-packages (from langchain->-r dash/backend/requirements.txt (line 15)) (6.0.2)\n",
            "Collecting langchain-core<1.0.0,>=0.3.41 (from langchain->-r dash/backend/requirements.txt (line 15))\n",
            "  Downloading langchain_core-0.3.43-py3-none-any.whl.metadata (5.9 kB)\n",
            "Requirement already satisfied: openai<2.0.0,>=1.58.1 in /usr/local/lib/python3.11/dist-packages (from langchain-openai->-r dash/backend/requirements.txt (line 16)) (1.61.1)\n",
            "Collecting tiktoken<1,>=0.7 (from langchain-openai->-r dash/backend/requirements.txt (line 16))\n",
            "  Downloading tiktoken-0.9.0-cp311-cp311-manylinux_2_17_x86_64.manylinux2014_x86_64.whl.metadata (6.7 kB)\n",
            "Collecting langgraph-checkpoint<3.0.0,>=2.0.10 (from langgraph->-r dash/backend/requirements.txt (line 17))\n",
            "  Downloading langgraph_checkpoint-2.0.18-py3-none-any.whl.metadata (4.6 kB)\n",
            "Collecting langgraph-prebuilt<0.2,>=0.1.1 (from langgraph->-r dash/backend/requirements.txt (line 17))\n",
            "  Downloading langgraph_prebuilt-0.1.2-py3-none-any.whl.metadata (5.0 kB)\n",
            "Collecting langgraph-sdk<0.2.0,>=0.1.42 (from langgraph->-r dash/backend/requirements.txt (line 17))\n",
            "  Downloading langgraph_sdk-0.1.55-py3-none-any.whl.metadata (1.8 kB)\n",
            "Requirement already satisfied: annotated-types>=0.6.0 in /usr/local/lib/python3.11/dist-packages (from pydantic->-r dash/backend/requirements.txt (line 18)) (0.7.0)\n",
            "Requirement already satisfied: pydantic-core==2.27.2 in /usr/local/lib/python3.11/dist-packages (from pydantic->-r dash/backend/requirements.txt (line 18)) (2.27.2)\n",
            "Requirement already satisfied: typing-extensions>=4.12.2 in /usr/local/lib/python3.11/dist-packages (from pydantic->-r dash/backend/requirements.txt (line 18)) (4.12.2)\n",
            "Collecting dnspython>=2.0.0 (from email-validator->-r dash/backend/requirements.txt (line 19))\n",
            "  Downloading dnspython-2.7.0-py3-none-any.whl.metadata (5.8 kB)\n",
            "Requirement already satisfied: requests_toolbelt in /usr/local/lib/python3.11/dist-packages (from python-arango->-r dash/backend/requirements.txt (line 20)) (1.0.0)\n",
            "Requirement already satisfied: setuptools>=42 in /usr/local/lib/python3.11/dist-packages (from python-arango->-r dash/backend/requirements.txt (line 20)) (75.1.0)\n",
            "Requirement already satisfied: importlib_metadata>=4.7.1 in /usr/local/lib/python3.11/dist-packages (from python-arango->-r dash/backend/requirements.txt (line 20)) (8.6.1)\n",
            "Requirement already satisfied: packaging>=23.1 in /usr/local/lib/python3.11/dist-packages (from python-arango->-r dash/backend/requirements.txt (line 20)) (24.2)\n",
            "Requirement already satisfied: iniconfig in /usr/local/lib/python3.11/dist-packages (from pytest->-r dash/backend/requirements.txt (line 21)) (2.0.0)\n",
            "Requirement already satisfied: pluggy<2,>=1.5 in /usr/local/lib/python3.11/dist-packages (from pytest->-r dash/backend/requirements.txt (line 21)) (1.5.0)\n",
            "Collecting aiosqlite<0.22,>=0.20 (from langgraph-checkpoint-sqlite->-r dash/backend/requirements.txt (line 23))\n",
            "  Downloading aiosqlite-0.21.0-py3-none-any.whl.metadata (4.3 kB)\n",
            "Collecting docker<8.0.0,>=7.1.0 (from llm-sandbox[docker]->-r dash/backend/requirements.txt (line 25))\n",
            "  Downloading docker-7.1.0-py3-none-any.whl.metadata (3.8 kB)\n",
            "Collecting billiard<5.0,>=4.2.0 (from celery->-r dash/backend/requirements.txt (line 27))\n",
            "  Downloading billiard-4.2.1-py3-none-any.whl.metadata (4.4 kB)\n",
            "Collecting kombu<6.0,>=5.3.4 (from celery->-r dash/backend/requirements.txt (line 27))\n",
            "  Downloading kombu-5.4.2-py3-none-any.whl.metadata (3.2 kB)\n",
            "Collecting vine<6.0,>=5.1.0 (from celery->-r dash/backend/requirements.txt (line 27))\n",
            "  Downloading vine-5.1.0-py3-none-any.whl.metadata (2.7 kB)\n",
            "Collecting click-didyoumean>=0.3.0 (from celery->-r dash/backend/requirements.txt (line 27))\n",
            "  Downloading click_didyoumean-0.3.1-py3-none-any.whl.metadata (3.9 kB)\n",
            "Collecting click-repl>=0.2.0 (from celery->-r dash/backend/requirements.txt (line 27))\n",
            "  Downloading click_repl-0.3.0-py3-none-any.whl.metadata (3.6 kB)\n",
            "Collecting click-plugins>=1.1.1 (from celery->-r dash/backend/requirements.txt (line 27))\n",
            "  Downloading click_plugins-1.1.1-py2.py3-none-any.whl.metadata (6.4 kB)\n",
            "Requirement already satisfied: tzdata>=2022.7 in /usr/local/lib/python3.11/dist-packages (from celery->-r dash/backend/requirements.txt (line 27)) (2025.1)\n",
            "Requirement already satisfied: python-dateutil>=2.8.2 in /usr/local/lib/python3.11/dist-packages (from celery->-r dash/backend/requirements.txt (line 27)) (2.8.2)\n",
            "Collecting anthropic<1,>=0.47.0 (from langchain_anthropic->-r dash/backend/requirements.txt (line 28))\n",
            "  Downloading anthropic-0.49.0-py3-none-any.whl.metadata (24 kB)\n",
            "Collecting filetype<2.0.0,>=1.2.0 (from langchain_google_genai->-r dash/backend/requirements.txt (line 29))\n",
            "  Downloading filetype-1.2.0-py2.py3-none-any.whl.metadata (6.5 kB)\n",
            "Collecting google-ai-generativelanguage<0.7.0,>=0.6.16 (from langchain_google_genai->-r dash/backend/requirements.txt (line 29))\n",
            "  Downloading google_ai_generativelanguage-0.6.16-py3-none-any.whl.metadata (5.7 kB)\n",
            "Requirement already satisfied: aiohttp<4.0.0,>=3.8.3 in /usr/local/lib/python3.11/dist-packages (from langchain_community->-r dash/backend/requirements.txt (line 30)) (3.11.13)\n",
            "Requirement already satisfied: tenacity!=8.4.0,<10,>=8.1.0 in /usr/local/lib/python3.11/dist-packages (from langchain_community->-r dash/backend/requirements.txt (line 30)) (9.0.0)\n",
            "Collecting dataclasses-json<0.7,>=0.5.7 (from langchain_community->-r dash/backend/requirements.txt (line 30))\n",
            "  Downloading dataclasses_json-0.6.7-py3-none-any.whl.metadata (25 kB)\n",
            "Collecting pydantic-settings<3.0.0,>=2.4.0 (from langchain_community->-r dash/backend/requirements.txt (line 30))\n",
            "  Downloading pydantic_settings-2.8.1-py3-none-any.whl.metadata (3.5 kB)\n",
            "Collecting httpx-sse<1.0.0,>=0.4.0 (from langchain_community->-r dash/backend/requirements.txt (line 30))\n",
            "  Downloading httpx_sse-0.4.0-py3-none-any.whl.metadata (9.0 kB)\n",
            "Requirement already satisfied: numpy<3,>=1.26.2 in /usr/local/lib/python3.11/dist-packages (from langchain_community->-r dash/backend/requirements.txt (line 30)) (1.26.4)\n",
            "Collecting networkx (from -r dash/backend/requirements.txt (line 32))\n",
            "  Downloading networkx-3.4-py3-none-any.whl.metadata (6.3 kB)\n",
            "Collecting phenolrs~=0.5 (from nx_arangodb->-r dash/backend/requirements.txt (line 34))\n",
            "  Downloading phenolrs-0.5.9-cp311-cp311-manylinux_2_17_x86_64.manylinux2014_x86_64.whl.metadata (1.7 kB)\n",
            "Collecting adbnx-adapter~=5.0.5 (from nx_arangodb->-r dash/backend/requirements.txt (line 34))\n",
            "  Downloading adbnx_adapter-5.0.6-py3-none-any.whl.metadata (21 kB)\n",
            "Collecting redis!=4.5.5,<6.0.0,>=4.5.2 (from celery[redis]->-r dash/backend/requirements.txt (line 35))\n",
            "  Downloading redis-5.2.1-py3-none-any.whl.metadata (9.1 kB)\n",
            "Requirement already satisfied: rich>=12.5.1 in /usr/local/lib/python3.11/dist-packages (from adbnx-adapter~=5.0.5->nx_arangodb->-r dash/backend/requirements.txt (line 34)) (13.9.4)\n",
            "Requirement already satisfied: aiohappyeyeballs>=2.3.0 in /usr/local/lib/python3.11/dist-packages (from aiohttp<4.0.0,>=3.8.3->langchain_community->-r dash/backend/requirements.txt (line 30)) (2.5.0)\n",
            "Requirement already satisfied: aiosignal>=1.1.2 in /usr/local/lib/python3.11/dist-packages (from aiohttp<4.0.0,>=3.8.3->langchain_community->-r dash/backend/requirements.txt (line 30)) (1.3.2)\n",
            "Requirement already satisfied: attrs>=17.3.0 in /usr/local/lib/python3.11/dist-packages (from aiohttp<4.0.0,>=3.8.3->langchain_community->-r dash/backend/requirements.txt (line 30)) (25.1.0)\n",
            "Requirement already satisfied: frozenlist>=1.1.1 in /usr/local/lib/python3.11/dist-packages (from aiohttp<4.0.0,>=3.8.3->langchain_community->-r dash/backend/requirements.txt (line 30)) (1.5.0)\n",
            "Requirement already satisfied: multidict<7.0,>=4.5 in /usr/local/lib/python3.11/dist-packages (from aiohttp<4.0.0,>=3.8.3->langchain_community->-r dash/backend/requirements.txt (line 30)) (6.1.0)\n",
            "Requirement already satisfied: propcache>=0.2.0 in /usr/local/lib/python3.11/dist-packages (from aiohttp<4.0.0,>=3.8.3->langchain_community->-r dash/backend/requirements.txt (line 30)) (0.3.0)\n",
            "Requirement already satisfied: yarl<2.0,>=1.17.0 in /usr/local/lib/python3.11/dist-packages (from aiohttp<4.0.0,>=3.8.3->langchain_community->-r dash/backend/requirements.txt (line 30)) (1.18.3)\n",
            "Requirement already satisfied: anyio<5,>=3.5.0 in /usr/local/lib/python3.11/dist-packages (from anthropic<1,>=0.47.0->langchain_anthropic->-r dash/backend/requirements.txt (line 28)) (3.7.1)\n",
            "Requirement already satisfied: distro<2,>=1.7.0 in /usr/local/lib/python3.11/dist-packages (from anthropic<1,>=0.47.0->langchain_anthropic->-r dash/backend/requirements.txt (line 28)) (1.9.0)\n",
            "Requirement already satisfied: httpx<1,>=0.23.0 in /usr/local/lib/python3.11/dist-packages (from anthropic<1,>=0.47.0->langchain_anthropic->-r dash/backend/requirements.txt (line 28)) (0.28.1)\n",
            "Requirement already satisfied: jiter<1,>=0.4.0 in /usr/local/lib/python3.11/dist-packages (from anthropic<1,>=0.47.0->langchain_anthropic->-r dash/backend/requirements.txt (line 28)) (0.8.2)\n",
            "Requirement already satisfied: sniffio in /usr/local/lib/python3.11/dist-packages (from anthropic<1,>=0.47.0->langchain_anthropic->-r dash/backend/requirements.txt (line 28)) (1.3.1)\n",
            "Requirement already satisfied: prompt-toolkit>=3.0.36 in /usr/local/lib/python3.11/dist-packages (from click-repl>=0.2.0->celery->-r dash/backend/requirements.txt (line 27)) (3.0.50)\n",
            "Collecting marshmallow<4.0.0,>=3.18.0 (from dataclasses-json<0.7,>=0.5.7->langchain_community->-r dash/backend/requirements.txt (line 30))\n",
            "  Downloading marshmallow-3.26.1-py3-none-any.whl.metadata (7.3 kB)\n",
            "Collecting typing-inspect<1,>=0.4.0 (from dataclasses-json<0.7,>=0.5.7->langchain_community->-r dash/backend/requirements.txt (line 30))\n",
            "  Downloading typing_inspect-0.9.0-py3-none-any.whl.metadata (1.5 kB)\n",
            "Requirement already satisfied: google-api-core!=2.0.*,!=2.1.*,!=2.10.*,!=2.2.*,!=2.3.*,!=2.4.*,!=2.5.*,!=2.6.*,!=2.7.*,!=2.8.*,!=2.9.*,<3.0.0dev,>=1.34.1 in /usr/local/lib/python3.11/dist-packages (from google-api-core[grpc]!=2.0.*,!=2.1.*,!=2.10.*,!=2.2.*,!=2.3.*,!=2.4.*,!=2.5.*,!=2.6.*,!=2.7.*,!=2.8.*,!=2.9.*,<3.0.0dev,>=1.34.1->google-ai-generativelanguage<0.7.0,>=0.6.16->langchain_google_genai->-r dash/backend/requirements.txt (line 29)) (2.24.1)\n",
            "Requirement already satisfied: google-auth!=2.24.0,!=2.25.0,<3.0.0dev,>=2.14.1 in /usr/local/lib/python3.11/dist-packages (from google-ai-generativelanguage<0.7.0,>=0.6.16->langchain_google_genai->-r dash/backend/requirements.txt (line 29)) (2.38.0)\n",
            "Requirement already satisfied: proto-plus<2.0.0dev,>=1.22.3 in /usr/local/lib/python3.11/dist-packages (from google-ai-generativelanguage<0.7.0,>=0.6.16->langchain_google_genai->-r dash/backend/requirements.txt (line 29)) (1.26.0)\n",
            "Requirement already satisfied: protobuf!=4.21.0,!=4.21.1,!=4.21.2,!=4.21.3,!=4.21.4,!=4.21.5,<6.0.0dev,>=3.20.2 in /usr/local/lib/python3.11/dist-packages (from google-ai-generativelanguage<0.7.0,>=0.6.16->langchain_google_genai->-r dash/backend/requirements.txt (line 29)) (4.25.6)\n",
            "Requirement already satisfied: zipp>=3.20 in /usr/local/lib/python3.11/dist-packages (from importlib_metadata>=4.7.1->python-arango->-r dash/backend/requirements.txt (line 20)) (3.21.0)\n",
            "Collecting amqp<6.0.0,>=5.1.1 (from kombu<6.0,>=5.3.4->celery->-r dash/backend/requirements.txt (line 27))\n",
            "  Downloading amqp-5.3.1-py3-none-any.whl.metadata (8.9 kB)\n",
            "Requirement already satisfied: jsonpatch<2.0,>=1.33 in /usr/local/lib/python3.11/dist-packages (from langchain-core<1.0.0,>=0.3.41->langchain->-r dash/backend/requirements.txt (line 15)) (1.33)\n",
            "Requirement already satisfied: msgpack<2.0.0,>=1.1.0 in /usr/local/lib/python3.11/dist-packages (from langgraph-checkpoint<3.0.0,>=2.0.10->langgraph->-r dash/backend/requirements.txt (line 17)) (1.1.0)\n",
            "Requirement already satisfied: orjson>=3.10.1 in /usr/local/lib/python3.11/dist-packages (from langgraph-sdk<0.2.0,>=0.1.42->langgraph->-r dash/backend/requirements.txt (line 17)) (3.10.15)\n",
            "Requirement already satisfied: zstandard<0.24.0,>=0.23.0 in /usr/local/lib/python3.11/dist-packages (from langsmith<0.4,>=0.1.17->langchain->-r dash/backend/requirements.txt (line 15)) (0.23.0)\n",
            "Requirement already satisfied: six>=1.5 in /usr/local/lib/python3.11/dist-packages (from python-dateutil>=2.8.2->celery->-r dash/backend/requirements.txt (line 27)) (1.17.0)\n",
            "Collecting bidict>=0.21.0 (from python-socketio>=5.12.0->flask_socketio->-r dash/backend/requirements.txt (line 7))\n",
            "  Downloading bidict-0.23.1-py3-none-any.whl.metadata (8.7 kB)\n",
            "Collecting python-engineio>=4.11.0 (from python-socketio>=5.12.0->flask_socketio->-r dash/backend/requirements.txt (line 7))\n",
            "  Downloading python_engineio-4.11.2-py3-none-any.whl.metadata (2.2 kB)\n",
            "Requirement already satisfied: greenlet!=0.4.17 in /usr/local/lib/python3.11/dist-packages (from sqlalchemy>=2.0.16->Flask-SQLAlchemy->-r dash/backend/requirements.txt (line 4)) (3.1.1)\n",
            "Requirement already satisfied: regex>=2022.1.18 in /usr/local/lib/python3.11/dist-packages (from tiktoken<1,>=0.7->langchain-openai->-r dash/backend/requirements.txt (line 16)) (2024.11.6)\n",
            "Requirement already satisfied: googleapis-common-protos<2.0.dev0,>=1.56.2 in /usr/local/lib/python3.11/dist-packages (from google-api-core!=2.0.*,!=2.1.*,!=2.10.*,!=2.2.*,!=2.3.*,!=2.4.*,!=2.5.*,!=2.6.*,!=2.7.*,!=2.8.*,!=2.9.*,<3.0.0dev,>=1.34.1->google-api-core[grpc]!=2.0.*,!=2.1.*,!=2.10.*,!=2.2.*,!=2.3.*,!=2.4.*,!=2.5.*,!=2.6.*,!=2.7.*,!=2.8.*,!=2.9.*,<3.0.0dev,>=1.34.1->google-ai-generativelanguage<0.7.0,>=0.6.16->langchain_google_genai->-r dash/backend/requirements.txt (line 29)) (1.69.0)\n",
            "Requirement already satisfied: grpcio<2.0dev,>=1.33.2 in /usr/local/lib/python3.11/dist-packages (from google-api-core[grpc]!=2.0.*,!=2.1.*,!=2.10.*,!=2.2.*,!=2.3.*,!=2.4.*,!=2.5.*,!=2.6.*,!=2.7.*,!=2.8.*,!=2.9.*,<3.0.0dev,>=1.34.1->google-ai-generativelanguage<0.7.0,>=0.6.16->langchain_google_genai->-r dash/backend/requirements.txt (line 29)) (1.70.0)\n",
            "Requirement already satisfied: grpcio-status<2.0.dev0,>=1.33.2 in /usr/local/lib/python3.11/dist-packages (from google-api-core[grpc]!=2.0.*,!=2.1.*,!=2.10.*,!=2.2.*,!=2.3.*,!=2.4.*,!=2.5.*,!=2.6.*,!=2.7.*,!=2.8.*,!=2.9.*,<3.0.0dev,>=1.34.1->google-ai-generativelanguage<0.7.0,>=0.6.16->langchain_google_genai->-r dash/backend/requirements.txt (line 29)) (1.62.3)\n",
            "Requirement already satisfied: cachetools<6.0,>=2.0.0 in /usr/local/lib/python3.11/dist-packages (from google-auth!=2.24.0,!=2.25.0,<3.0.0dev,>=2.14.1->google-ai-generativelanguage<0.7.0,>=0.6.16->langchain_google_genai->-r dash/backend/requirements.txt (line 29)) (5.5.2)\n",
            "Requirement already satisfied: pyasn1-modules>=0.2.1 in /usr/local/lib/python3.11/dist-packages (from google-auth!=2.24.0,!=2.25.0,<3.0.0dev,>=2.14.1->google-ai-generativelanguage<0.7.0,>=0.6.16->langchain_google_genai->-r dash/backend/requirements.txt (line 29)) (0.4.1)\n",
            "Requirement already satisfied: rsa<5,>=3.1.4 in /usr/local/lib/python3.11/dist-packages (from google-auth!=2.24.0,!=2.25.0,<3.0.0dev,>=2.14.1->google-ai-generativelanguage<0.7.0,>=0.6.16->langchain_google_genai->-r dash/backend/requirements.txt (line 29)) (4.9)\n",
            "Requirement already satisfied: httpcore==1.* in /usr/local/lib/python3.11/dist-packages (from httpx<1,>=0.23.0->anthropic<1,>=0.47.0->langchain_anthropic->-r dash/backend/requirements.txt (line 28)) (1.0.7)\n",
            "Requirement already satisfied: h11<0.15,>=0.13 in /usr/local/lib/python3.11/dist-packages (from httpcore==1.*->httpx<1,>=0.23.0->anthropic<1,>=0.47.0->langchain_anthropic->-r dash/backend/requirements.txt (line 28)) (0.14.0)\n",
            "Requirement already satisfied: jsonpointer>=1.9 in /usr/local/lib/python3.11/dist-packages (from jsonpatch<2.0,>=1.33->langchain-core<1.0.0,>=0.3.41->langchain->-r dash/backend/requirements.txt (line 15)) (3.0.0)\n",
            "Requirement already satisfied: wcwidth in /usr/local/lib/python3.11/dist-packages (from prompt-toolkit>=3.0.36->click-repl>=0.2.0->celery->-r dash/backend/requirements.txt (line 27)) (0.2.13)\n",
            "Collecting simple-websocket>=0.10.0 (from python-engineio>=4.11.0->python-socketio>=5.12.0->flask_socketio->-r dash/backend/requirements.txt (line 7))\n",
            "  Downloading simple_websocket-1.1.0-py3-none-any.whl.metadata (1.5 kB)\n",
            "Requirement already satisfied: markdown-it-py>=2.2.0 in /usr/local/lib/python3.11/dist-packages (from rich>=12.5.1->adbnx-adapter~=5.0.5->nx_arangodb->-r dash/backend/requirements.txt (line 34)) (3.0.0)\n",
            "Requirement already satisfied: pygments<3.0.0,>=2.13.0 in /usr/local/lib/python3.11/dist-packages (from rich>=12.5.1->adbnx-adapter~=5.0.5->nx_arangodb->-r dash/backend/requirements.txt (line 34)) (2.18.0)\n",
            "Collecting mypy-extensions>=0.3.0 (from typing-inspect<1,>=0.4.0->dataclasses-json<0.7,>=0.5.7->langchain_community->-r dash/backend/requirements.txt (line 30))\n",
            "  Downloading mypy_extensions-1.0.0-py3-none-any.whl.metadata (1.1 kB)\n",
            "Requirement already satisfied: mdurl~=0.1 in /usr/local/lib/python3.11/dist-packages (from markdown-it-py>=2.2.0->rich>=12.5.1->adbnx-adapter~=5.0.5->nx_arangodb->-r dash/backend/requirements.txt (line 34)) (0.1.2)\n",
            "Requirement already satisfied: pyasn1<0.7.0,>=0.4.6 in /usr/local/lib/python3.11/dist-packages (from pyasn1-modules>=0.2.1->google-auth!=2.24.0,!=2.25.0,<3.0.0dev,>=2.14.1->google-ai-generativelanguage<0.7.0,>=0.6.16->langchain_google_genai->-r dash/backend/requirements.txt (line 29)) (0.6.1)\n",
            "Collecting wsproto (from simple-websocket>=0.10.0->python-engineio>=4.11.0->python-socketio>=5.12.0->flask_socketio->-r dash/backend/requirements.txt (line 7))\n",
            "  Downloading wsproto-1.2.0-py3-none-any.whl.metadata (5.6 kB)\n",
            "Downloading Flask_Bcrypt-1.0.1-py3-none-any.whl (6.0 kB)\n",
            "Downloading Flask_Login-0.6.3-py3-none-any.whl (17 kB)\n",
            "Downloading flask_sqlalchemy-3.1.1-py3-none-any.whl (25 kB)\n",
            "Downloading flask_mail-0.10.0-py3-none-any.whl (8.5 kB)\n",
            "Downloading flask_wtf-1.2.2-py3-none-any.whl (12 kB)\n",
            "Downloading Flask_SocketIO-5.5.1-py3-none-any.whl (18 kB)\n",
            "Downloading flask_cors-5.0.1-py3-none-any.whl (11 kB)\n",
            "Downloading python_dotenv-1.0.1-py3-none-any.whl (19 kB)\n",
            "Downloading langchain_openai-0.3.8-py3-none-any.whl (55 kB)\n",
            "\u001b[2K   \u001b[90m━━━━━━━━━━━━━━━━━━━━━━━━━━━━━━━━━━━━━━━━\u001b[0m \u001b[32m55.4/55.4 kB\u001b[0m \u001b[31m2.7 MB/s\u001b[0m eta \u001b[36m0:00:00\u001b[0m\n",
            "\u001b[?25hDownloading langgraph-0.3.5-py3-none-any.whl (131 kB)\n",
            "\u001b[2K   \u001b[90m━━━━━━━━━━━━━━━━━━━━━━━━━━━━━━━━━━━━━━━━\u001b[0m \u001b[32m131.5/131.5 kB\u001b[0m \u001b[31m5.0 MB/s\u001b[0m eta \u001b[36m0:00:00\u001b[0m\n",
            "\u001b[?25hDownloading email_validator-2.2.0-py3-none-any.whl (33 kB)\n",
            "Downloading python_arango-8.1.6-py3-none-any.whl (114 kB)\n",
            "\u001b[2K   \u001b[90m━━━━━━━━━━━━━━━━━━━━━━━━━━━━━━━━━━━━━━━━\u001b[0m \u001b[32m114.6/114.6 kB\u001b[0m \u001b[31m6.2 MB/s\u001b[0m eta \u001b[36m0:00:00\u001b[0m\n",
            "\u001b[?25hDownloading waitress-3.0.2-py3-none-any.whl (56 kB)\n",
            "\u001b[2K   \u001b[90m━━━━━━━━━━━━━━━━━━━━━━━━━━━━━━━━━━━━━━━━\u001b[0m \u001b[32m56.2/56.2 kB\u001b[0m \u001b[31m3.1 MB/s\u001b[0m eta \u001b[36m0:00:00\u001b[0m\n",
            "\u001b[?25hDownloading langgraph_checkpoint_sqlite-2.0.6-py3-none-any.whl (12 kB)\n",
            "Downloading apsw-3.49.1.0-cp311-cp311-manylinux_2_17_x86_64.manylinux2014_x86_64.whl (6.4 MB)\n",
            "\u001b[2K   \u001b[90m━━━━━━━━━━━━━━━━━━━━━━━━━━━━━━━━━━━━━━━━\u001b[0m \u001b[32m6.4/6.4 MB\u001b[0m \u001b[31m54.1 MB/s\u001b[0m eta \u001b[36m0:00:00\u001b[0m\n",
            "\u001b[?25hDownloading flask_swagger_ui-4.11.1-py3-none-any.whl (1.4 MB)\n",
            "\u001b[2K   \u001b[90m━━━━━━━━━━━━━━━━━━━━━━━━━━━━━━━━━━━━━━━━\u001b[0m \u001b[32m1.4/1.4 MB\u001b[0m \u001b[31m41.5 MB/s\u001b[0m eta \u001b[36m0:00:00\u001b[0m\n",
            "\u001b[?25hDownloading celery-5.4.0-py3-none-any.whl (425 kB)\n",
            "\u001b[2K   \u001b[90m━━━━━━━━━━━━━━━━━━━━━━━━━━━━━━━━━━━━━━━━\u001b[0m \u001b[32m426.0/426.0 kB\u001b[0m \u001b[31m18.6 MB/s\u001b[0m eta \u001b[36m0:00:00\u001b[0m\n",
            "\u001b[?25hDownloading langchain_anthropic-0.3.9-py3-none-any.whl (24 kB)\n",
            "Downloading langchain_google_genai-2.0.11-py3-none-any.whl (39 kB)\n",
            "Downloading langchain_community-0.3.19-py3-none-any.whl (2.5 MB)\n",
            "\u001b[2K   \u001b[90m━━━━━━━━━━━━━━━━━━━━━━━━━━━━━━━━━━━━━━━━\u001b[0m \u001b[32m2.5/2.5 MB\u001b[0m \u001b[31m39.4 MB/s\u001b[0m eta \u001b[36m0:00:00\u001b[0m\n",
            "\u001b[?25hDownloading nx_arangodb-1.3.0-py3-none-any.whl (67 kB)\n",
            "\u001b[2K   \u001b[90m━━━━━━━━━━━━━━━━━━━━━━━━━━━━━━━━━━━━━━━━\u001b[0m \u001b[32m67.8/67.8 kB\u001b[0m \u001b[31m4.3 MB/s\u001b[0m eta \u001b[36m0:00:00\u001b[0m\n",
            "\u001b[?25hDownloading networkx-3.4-py3-none-any.whl (1.7 MB)\n",
            "\u001b[2K   \u001b[90m━━━━━━━━━━━━━━━━━━━━━━━━━━━━━━━━━━━━━━━━\u001b[0m \u001b[32m1.7/1.7 MB\u001b[0m \u001b[31m39.0 MB/s\u001b[0m eta \u001b[36m0:00:00\u001b[0m\n",
            "\u001b[?25hDownloading adbnx_adapter-5.0.6-py3-none-any.whl (21 kB)\n",
            "Downloading aiosqlite-0.21.0-py3-none-any.whl (15 kB)\n",
            "Downloading anthropic-0.49.0-py3-none-any.whl (243 kB)\n",
            "\u001b[2K   \u001b[90m━━━━━━━━━━━━━━━━━━━━━━━━━━━━━━━━━━━━━━━━\u001b[0m \u001b[32m243.4/243.4 kB\u001b[0m \u001b[31m13.1 MB/s\u001b[0m eta \u001b[36m0:00:00\u001b[0m\n",
            "\u001b[?25hDownloading bcrypt-4.3.0-cp39-abi3-manylinux_2_34_x86_64.whl (284 kB)\n",
            "\u001b[2K   \u001b[90m━━━━━━━━━━━━━━━━━━━━━━━━━━━━━━━━━━━━━━━━\u001b[0m \u001b[32m284.2/284.2 kB\u001b[0m \u001b[31m11.8 MB/s\u001b[0m eta \u001b[36m0:00:00\u001b[0m\n",
            "\u001b[?25hDownloading billiard-4.2.1-py3-none-any.whl (86 kB)\n",
            "\u001b[2K   \u001b[90m━━━━━━━━━━━━━━━━━━━━━━━━━━━━━━━━━━━━━━━━\u001b[0m \u001b[32m86.8/86.8 kB\u001b[0m \u001b[31m4.1 MB/s\u001b[0m eta \u001b[36m0:00:00\u001b[0m\n",
            "\u001b[?25hDownloading click_didyoumean-0.3.1-py3-none-any.whl (3.6 kB)\n",
            "Downloading click_plugins-1.1.1-py2.py3-none-any.whl (7.5 kB)\n",
            "Downloading click_repl-0.3.0-py3-none-any.whl (10 kB)\n",
            "Downloading dataclasses_json-0.6.7-py3-none-any.whl (28 kB)\n",
            "Downloading dnspython-2.7.0-py3-none-any.whl (313 kB)\n",
            "\u001b[2K   \u001b[90m━━━━━━━━━━━━━━━━━━━━━━━━━━━━━━━━━━━━━━━━\u001b[0m \u001b[32m313.6/313.6 kB\u001b[0m \u001b[31m15.9 MB/s\u001b[0m eta \u001b[36m0:00:00\u001b[0m\n",
            "\u001b[?25hDownloading docker-7.1.0-py3-none-any.whl (147 kB)\n",
            "\u001b[2K   \u001b[90m━━━━━━━━━━━━━━━━━━━━━━━━━━━━━━━━━━━━━━━━\u001b[0m \u001b[32m147.8/147.8 kB\u001b[0m \u001b[31m8.6 MB/s\u001b[0m eta \u001b[36m0:00:00\u001b[0m\n",
            "\u001b[?25hDownloading filetype-1.2.0-py2.py3-none-any.whl (19 kB)\n",
            "Downloading google_ai_generativelanguage-0.6.16-py3-none-any.whl (1.4 MB)\n",
            "\u001b[2K   \u001b[90m━━━━━━━━━━━━━━━━━━━━━━━━━━━━━━━━━━━━━━━━\u001b[0m \u001b[32m1.4/1.4 MB\u001b[0m \u001b[31m31.9 MB/s\u001b[0m eta \u001b[36m0:00:00\u001b[0m\n",
            "\u001b[?25hDownloading httpx_sse-0.4.0-py3-none-any.whl (7.8 kB)\n",
            "Downloading kombu-5.4.2-py3-none-any.whl (201 kB)\n",
            "\u001b[2K   \u001b[90m━━━━━━━━━━━━━━━━━━━━━━━━━━━━━━━━━━━━━━━━\u001b[0m \u001b[32m201.3/201.3 kB\u001b[0m \u001b[31m11.4 MB/s\u001b[0m eta \u001b[36m0:00:00\u001b[0m\n",
            "\u001b[?25hDownloading vine-5.1.0-py3-none-any.whl (9.6 kB)\n",
            "Downloading langchain_core-0.3.43-py3-none-any.whl (415 kB)\n",
            "\u001b[2K   \u001b[90m━━━━━━━━━━━━━━━━━━━━━━━━━━━━━━━━━━━━━━━━\u001b[0m \u001b[32m415.4/415.4 kB\u001b[0m \u001b[31m18.9 MB/s\u001b[0m eta \u001b[36m0:00:00\u001b[0m\n",
            "\u001b[?25hDownloading langgraph_checkpoint-2.0.18-py3-none-any.whl (39 kB)\n",
            "Downloading langgraph_prebuilt-0.1.2-py3-none-any.whl (24 kB)\n",
            "Downloading langgraph_sdk-0.1.55-py3-none-any.whl (45 kB)\n",
            "\u001b[2K   \u001b[90m━━━━━━━━━━━━━━━━━━━━━━━━━━━━━━━━━━━━━━━━\u001b[0m \u001b[32m45.8/45.8 kB\u001b[0m \u001b[31m2.7 MB/s\u001b[0m eta \u001b[36m0:00:00\u001b[0m\n",
            "\u001b[?25hDownloading phenolrs-0.5.9-cp311-cp311-manylinux_2_17_x86_64.manylinux2014_x86_64.whl (4.7 MB)\n",
            "\u001b[2K   \u001b[90m━━━━━━━━━━━━━━━━━━━━━━━━━━━━━━━━━━━━━━━━\u001b[0m \u001b[32m4.7/4.7 MB\u001b[0m \u001b[31m32.2 MB/s\u001b[0m eta \u001b[36m0:00:00\u001b[0m\n",
            "\u001b[?25hDownloading pydantic_settings-2.8.1-py3-none-any.whl (30 kB)\n",
            "Downloading python_socketio-5.12.1-py3-none-any.whl (76 kB)\n",
            "\u001b[2K   \u001b[90m━━━━━━━━━━━━━━━━━━━━━━━━━━━━━━━━━━━━━━━━\u001b[0m \u001b[32m76.9/76.9 kB\u001b[0m \u001b[31m5.3 MB/s\u001b[0m eta \u001b[36m0:00:00\u001b[0m\n",
            "\u001b[?25hDownloading redis-5.2.1-py3-none-any.whl (261 kB)\n",
            "\u001b[2K   \u001b[90m━━━━━━━━━━━━━━━━━━━━━━━━━━━━━━━━━━━━━━━━\u001b[0m \u001b[32m261.5/261.5 kB\u001b[0m \u001b[31m14.6 MB/s\u001b[0m eta \u001b[36m0:00:00\u001b[0m\n",
            "\u001b[?25hDownloading tiktoken-0.9.0-cp311-cp311-manylinux_2_17_x86_64.manylinux2014_x86_64.whl (1.2 MB)\n",
            "\u001b[2K   \u001b[90m━━━━━━━━━━━━━━━━━━━━━━━━━━━━━━━━━━━━━━━━\u001b[0m \u001b[32m1.2/1.2 MB\u001b[0m \u001b[31m36.6 MB/s\u001b[0m eta \u001b[36m0:00:00\u001b[0m\n",
            "\u001b[?25hDownloading llm_sandbox-0.2.3-py3-none-any.whl (21 kB)\n",
            "Downloading wtforms-3.2.1-py3-none-any.whl (152 kB)\n",
            "\u001b[2K   \u001b[90m━━━━━━━━━━━━━━━━━━━━━━━━━━━━━━━━━━━━━━━━\u001b[0m \u001b[32m152.5/152.5 kB\u001b[0m \u001b[31m8.4 MB/s\u001b[0m eta \u001b[36m0:00:00\u001b[0m\n",
            "\u001b[?25hDownloading amqp-5.3.1-py3-none-any.whl (50 kB)\n",
            "\u001b[2K   \u001b[90m━━━━━━━━━━━━━━━━━━━━━━━━━━━━━━━━━━━━━━━━\u001b[0m \u001b[32m50.9/50.9 kB\u001b[0m \u001b[31m2.5 MB/s\u001b[0m eta \u001b[36m0:00:00\u001b[0m\n",
            "\u001b[?25hDownloading bidict-0.23.1-py3-none-any.whl (32 kB)\n",
            "Downloading marshmallow-3.26.1-py3-none-any.whl (50 kB)\n",
            "\u001b[2K   \u001b[90m━━━━━━━━━━━━━━━━━━━━━━━━━━━━━━━━━━━━━━━━\u001b[0m \u001b[32m50.9/50.9 kB\u001b[0m \u001b[31m2.9 MB/s\u001b[0m eta \u001b[36m0:00:00\u001b[0m\n",
            "\u001b[?25hDownloading python_engineio-4.11.2-py3-none-any.whl (59 kB)\n",
            "\u001b[2K   \u001b[90m━━━━━━━━━━━━━━━━━━━━━━━━━━━━━━━━━━━━━━━━\u001b[0m \u001b[32m59.2/59.2 kB\u001b[0m \u001b[31m2.8 MB/s\u001b[0m eta \u001b[36m0:00:00\u001b[0m\n",
            "\u001b[?25hDownloading typing_inspect-0.9.0-py3-none-any.whl (8.8 kB)\n",
            "Downloading mypy_extensions-1.0.0-py3-none-any.whl (4.7 kB)\n",
            "Downloading simple_websocket-1.1.0-py3-none-any.whl (13 kB)\n",
            "Downloading wsproto-1.2.0-py3-none-any.whl (24 kB)\n",
            "Installing collected packages: filetype, wtforms, wsproto, waitress, vine, redis, python-dotenv, networkx, mypy-extensions, marshmallow, llm-sandbox, httpx-sse, dnspython, click-plugins, click-didyoumean, billiard, bidict, bcrypt, apsw, aiosqlite, typing-inspect, tiktoken, simple-websocket, email-validator, docker, click-repl, amqp, python-engineio, python-arango, pydantic-settings, langgraph-sdk, kombu, Flask-WTF, flask_swagger_ui, Flask-SQLAlchemy, Flask-Mail, Flask-Login, flask-cors, Flask-Bcrypt, dataclasses-json, anthropic, python-socketio, phenolrs, langchain-core, celery, adbnx-adapter, nx_arangodb, langgraph-checkpoint, langchain-openai, langchain_anthropic, google-ai-generativelanguage, flask_socketio, langgraph-prebuilt, langgraph-checkpoint-sqlite, langchain_google_genai, langgraph, langchain_community\n",
            "  Attempting uninstall: networkx\n",
            "    Found existing installation: networkx 3.4.2\n",
            "    Uninstalling networkx-3.4.2:\n",
            "      Successfully uninstalled networkx-3.4.2\n",
            "  Attempting uninstall: langchain-core\n",
            "    Found existing installation: langchain-core 0.3.41\n",
            "    Uninstalling langchain-core-0.3.41:\n",
            "      Successfully uninstalled langchain-core-0.3.41\n",
            "  Attempting uninstall: google-ai-generativelanguage\n",
            "    Found existing installation: google-ai-generativelanguage 0.6.15\n",
            "    Uninstalling google-ai-generativelanguage-0.6.15:\n",
            "      Successfully uninstalled google-ai-generativelanguage-0.6.15\n",
            "\u001b[31mERROR: pip's dependency resolver does not currently take into account all the packages that are installed. This behaviour is the source of the following dependency conflicts.\n",
            "google-generativeai 0.8.4 requires google-ai-generativelanguage==0.6.15, but you have google-ai-generativelanguage 0.6.16 which is incompatible.\n",
            "torch 2.5.1+cu124 requires nvidia-cublas-cu12==12.4.5.8; platform_system == \"Linux\" and platform_machine == \"x86_64\", but you have nvidia-cublas-cu12 12.5.3.2 which is incompatible.\n",
            "torch 2.5.1+cu124 requires nvidia-cuda-cupti-cu12==12.4.127; platform_system == \"Linux\" and platform_machine == \"x86_64\", but you have nvidia-cuda-cupti-cu12 12.5.82 which is incompatible.\n",
            "torch 2.5.1+cu124 requires nvidia-cuda-nvrtc-cu12==12.4.127; platform_system == \"Linux\" and platform_machine == \"x86_64\", but you have nvidia-cuda-nvrtc-cu12 12.5.82 which is incompatible.\n",
            "torch 2.5.1+cu124 requires nvidia-cuda-runtime-cu12==12.4.127; platform_system == \"Linux\" and platform_machine == \"x86_64\", but you have nvidia-cuda-runtime-cu12 12.5.82 which is incompatible.\n",
            "torch 2.5.1+cu124 requires nvidia-cudnn-cu12==9.1.0.70; platform_system == \"Linux\" and platform_machine == \"x86_64\", but you have nvidia-cudnn-cu12 9.3.0.75 which is incompatible.\n",
            "torch 2.5.1+cu124 requires nvidia-cufft-cu12==11.2.1.3; platform_system == \"Linux\" and platform_machine == \"x86_64\", but you have nvidia-cufft-cu12 11.2.3.61 which is incompatible.\n",
            "torch 2.5.1+cu124 requires nvidia-curand-cu12==10.3.5.147; platform_system == \"Linux\" and platform_machine == \"x86_64\", but you have nvidia-curand-cu12 10.3.6.82 which is incompatible.\n",
            "torch 2.5.1+cu124 requires nvidia-cusolver-cu12==11.6.1.9; platform_system == \"Linux\" and platform_machine == \"x86_64\", but you have nvidia-cusolver-cu12 11.6.3.83 which is incompatible.\n",
            "torch 2.5.1+cu124 requires nvidia-cusparse-cu12==12.3.1.170; platform_system == \"Linux\" and platform_machine == \"x86_64\", but you have nvidia-cusparse-cu12 12.5.1.3 which is incompatible.\n",
            "torch 2.5.1+cu124 requires nvidia-nvjitlink-cu12==12.4.127; platform_system == \"Linux\" and platform_machine == \"x86_64\", but you have nvidia-nvjitlink-cu12 12.5.82 which is incompatible.\u001b[0m\u001b[31m\n",
            "\u001b[0mSuccessfully installed Flask-Bcrypt-1.0.1 Flask-Login-0.6.3 Flask-Mail-0.10.0 Flask-SQLAlchemy-3.1.1 Flask-WTF-1.2.2 adbnx-adapter-5.0.6 aiosqlite-0.21.0 amqp-5.3.1 anthropic-0.49.0 apsw-3.49.1.0 bcrypt-4.3.0 bidict-0.23.1 billiard-4.2.1 celery-5.4.0 click-didyoumean-0.3.1 click-plugins-1.1.1 click-repl-0.3.0 dataclasses-json-0.6.7 dnspython-2.7.0 docker-7.1.0 email-validator-2.2.0 filetype-1.2.0 flask-cors-5.0.1 flask_socketio-5.5.1 flask_swagger_ui-4.11.1 google-ai-generativelanguage-0.6.16 httpx-sse-0.4.0 kombu-5.4.2 langchain-core-0.3.43 langchain-openai-0.3.8 langchain_anthropic-0.3.9 langchain_community-0.3.19 langchain_google_genai-2.0.11 langgraph-0.3.5 langgraph-checkpoint-2.0.18 langgraph-checkpoint-sqlite-2.0.6 langgraph-prebuilt-0.1.2 langgraph-sdk-0.1.55 llm-sandbox-0.2.3 marshmallow-3.26.1 mypy-extensions-1.0.0 networkx-3.4 nx_arangodb-1.3.0 phenolrs-0.5.9 pydantic-settings-2.8.1 python-arango-8.1.6 python-dotenv-1.0.1 python-engineio-4.11.2 python-socketio-5.12.1 redis-5.2.1 simple-websocket-1.1.0 tiktoken-0.9.0 typing-inspect-0.9.0 vine-5.1.0 waitress-3.0.2 wsproto-1.2.0 wtforms-3.2.1\n"
          ]
        },
        {
          "data": {
            "application/vnd.colab-display-data+json": {
              "id": "d33c408b5b7246d989f7971a1cbba7b1",
              "pip_warning": {
                "packages": [
                  "google"
                ]
              }
            }
          },
          "metadata": {},
          "output_type": "display_data"
        }
      ],
      "source": [
        "!pip install -r dash/backend/requirements.txt"
      ]
    },
    {
      "cell_type": "markdown",
      "metadata": {
        "id": "pyqAnOYtKNUn"
      },
      "source": [
        "## Configure Database Connection\n",
        "Here we set up connection parameters for ArangoDB, which serves as our graph database. We have two databases:\n",
        "- `user_1270834`: A example private database for user-specific data\n",
        "- `common_db`: A public database for shared information like restaurant data"
      ]
    },
    {
      "cell_type": "code",
      "execution_count": null,
      "metadata": {
        "colab": {
          "base_uri": "https://localhost:8080/"
        },
        "id": "t67Xrnsa5_Ou",
        "outputId": "2bede45e-315f-42c1-d49d-46b9ea7a260e"
      },
      "outputs": [
        {
          "name": "stdout",
          "output_type": "stream",
          "text": [
            "Already up to date.\n"
          ]
        }
      ],
      "source": [
        "!cd dash; git pull"
      ]
    },
    {
      "cell_type": "code",
      "execution_count": null,
      "metadata": {
        "id": "XV8a04YHfWYh"
      },
      "outputs": [],
      "source": [
        "import os, sys\n",
        "from arango import ArangoClient\n",
        "\n",
        "private_db_name=\"user_1270834\"\n",
        "host=\"https://afc3138ddacc.arangodb.cloud:8529\"\n",
        "username=\"root\"\n",
        "password=\"Jav9ZvTdowF3q66xXEiv\"\n",
        "public_db_name = \"common_db\"\n",
        "client = ArangoClient(hosts=host)\n",
        "\n",
        "sys.path.append(\"dash/backend\")"
      ]
    },
    {
      "cell_type": "markdown",
      "metadata": {
        "id": "hjcjCCchKT8j"
      },
      "source": [
        "## Migrations\n",
        "This section includes database schema setup and data import utilities:\n",
        "- **Schema Creators**: `EmailGraphSchema`, `SlackGraphSchema`, `WhatsAppGraphSchema` establish the database structure for different communication channels\n",
        "- **Data Importers**:\n",
        "  - `ContactsImporter`: Loads user contacts into the private database\n",
        "  - `EmailDataImporter`: Populates email data\n",
        "  - `SlackMessagesImporter`: Imports Slack conversation history\n",
        "  - `ImportMeData`: Adds personal user information\n",
        "  - `RestaurantGraphImporter`: Populates the public database with restaurant information\n",
        "\n",
        "  These migrations first check if databases exist (creating them if needed), then set up schemas and import sample data to provide a realistic environment for the agents."
      ]
    },
    {
      "cell_type": "code",
      "execution_count": null,
      "metadata": {
        "id": "FE6qP-qTjD-C"
      },
      "outputs": [],
      "source": [
        "# # Import all importers\n",
        "# from migrations.email_graph_schema import EmailGraphSchema\n",
        "# from migrations.import_contacts import ContactsImporter\n",
        "# from migrations.import_email_data import EmailDataImporter\n",
        "# from migrations.import_slack_messages import SlackMessagesImporter\n",
        "# from migrations.restaurant_graph_importer import RestaurantGraphImporter\n",
        "# from migrations.slack_graph_schema import SlackGraphSchema\n",
        "# from migrations.whatsapp_graph_schema import WhatsAppGraphSchema\n",
        "# from migrations.import_me_data import ImportMeData\n",
        "\n",
        "# sys_db = client.db('_system', username=username, password=password)\n",
        "# if not sys_db.has_database(private_db_name):\n",
        "#   sys_db.create_database(name=private_db_name)\n",
        "# if not sys_db.has_database(public_db_name):\n",
        "#   sys_db.create_database(name=public_db_name)\n",
        "\n",
        "# SlackGraphSchema().run(db_name=private_db_name, host=host, username=username, password=password)\n",
        "# WhatsAppGraphSchema().run(db_name=private_db_name, host=host, username=username, password=password)\n",
        "# EmailGraphSchema().run(db_name=private_db_name, host=host, username=username, password=password)\n",
        "# SlackMessagesImporter(db_name=private_db_name, host=host, username=username, password=password).run()\n",
        "# EmailDataImporter(db_name=private_db_name, host=host, username=username, password=password).run()\n",
        "# ContactsImporter(db_name=private_db_name, host=host, username=username, password=password).run()\n",
        "# ImportMeData(db_name=private_db_name, host=host, username=username, password=password).run()\n",
        "# RestaurantGraphImporter(db_name=public_db_name, host=host, username=username, password=password).run()"
      ]
    },
    {
      "cell_type": "markdown",
      "metadata": {
        "id": "d4zW_eeqKpmY"
      },
      "source": [
        "The exact code showed the error `AttributeError: 'Config' object has no attribute 'arangodb'`, which is why I implemented a custom ArangoDB to NetworkX importer: `load_arangodb_graph_to_networkx.py`."
      ]
    },
    {
      "cell_type": "code",
      "execution_count": null,
      "metadata": {
        "colab": {
          "base_uri": "https://localhost:8080/"
        },
        "id": "kXmtCTl7m49v",
        "outputId": "4febc2ed-0182-4070-f996-7e4896a43b90"
      },
      "outputs": [
        {
          "name": "stderr",
          "output_type": "stream",
          "text": [
            "[06:43:55 +0000] [INFO]: NetworkX-cuGraph is available.\n",
            "INFO:nx_arangodb:NetworkX-cuGraph is available.\n",
            "[06:43:55 +0000] [INFO]: Graph 'restaurants' exists.\n",
            "INFO:nx_arangodb:Graph 'restaurants' exists.\n",
            "[06:43:56 +0000] [INFO]: Default node type set to 'categories'\n",
            "INFO:nx_arangodb:Default node type set to 'categories'\n"
          ]
        },
        {
          "name": "stdout",
          "output_type": "stream",
          "text": [
            "Graph named 'restaurants' with 59991 nodes and 313302 edges\n"
          ]
        }
      ],
      "source": [
        "import networkx as nx\n",
        "import nx_arangodb as nxadb\n",
        "\n",
        "db = client.db(public_db_name, username=username, password=password)\n",
        "\n",
        "G_adb = nxadb.Graph(name=\"restaurants\", db=db)\n",
        "\n",
        "print(G_adb)"
      ]
    },
    {
      "cell_type": "code",
      "execution_count": null,
      "metadata": {
        "colab": {
          "base_uri": "https://localhost:8080/"
        },
        "id": "hQtqPhuvXyQv",
        "outputId": "c27b5a1f-e43b-4751-bcb2-205dd43467f8"
      },
      "outputs": [
        {
          "name": "stdout",
          "output_type": "stream",
          "text": [
            "env: OPENAI_API_KEY=sk-proj-44fGX....\n",
            "env: ANTHROPIC_API_KEY=sk-ant-ap....\n"
          ]
        }
      ],
      "source": [
        "%env OPENAI_API_KEY=sk-proj-44fGX....\n",
        "%env ANTHROPIC_API_KEY=sk-ant-ap...."
      ]
    },
    {
      "cell_type": "markdown",
      "metadata": {
        "id": "re9SN2gEKwT7"
      },
      "source": [
        "## Initialize Agent Components\n",
        "This code:\n",
        "1. Sets up database connections for both private and public data\n",
        "2. Creates a memory saver for maintaining conversation state\n",
        "3. Initializes two agents - one using Claude 3.7 Sonnet and another using GPT-4o\n",
        "4. Each agent has access to private user data and shared public data"
      ]
    },
    {
      "cell_type": "code",
      "execution_count": null,
      "metadata": {
        "colab": {
          "base_uri": "https://localhost:8080/"
        },
        "id": "Mq2FxKePdC66",
        "outputId": "725c96e1-bd4b-4e80-db1f-fc1dcc23d6cd"
      },
      "outputs": [
        {
          "name": "stderr",
          "output_type": "stream",
          "text": [
            "Loading vertices: 100%|██████████| 59991/59991 [00:14<00:00, 4284.53node/s]\n",
            "Loading edges: 100%|██████████| 313302/313302 [00:25<00:00, 12157.46edge/s]\n",
            "Loading vertices: 100%|██████████| 59991/59991 [00:14<00:00, 4127.33node/s]\n",
            "Loading edges: 100%|██████████| 313302/313302 [00:30<00:00, 10283.04edge/s]\n"
          ]
        }
      ],
      "source": [
        "import sys\n",
        "from arango import ArangoClient\n",
        "from rich.console import Console\n",
        "from rich.markdown import Markdown\n",
        "console = Console()\n",
        "\n",
        "sys.path.append(\"dash/backend\")\n",
        "\n",
        "private_db_name=\"user_1270834\"\n",
        "host=\"https://afc3138ddacc.arangodb.cloud:8529\"\n",
        "username=\"root\"\n",
        "password=\"Jav9ZvTdowF3q66xXEiv\"\n",
        "public_db_name = \"common_db\"\n",
        "\n",
        "client = ArangoClient(hosts=host)\n",
        "\n",
        "import uuid\n",
        "from langchain_community.graphs import ArangoGraph\n",
        "from langgraph.checkpoint.memory import MemorySaver\n",
        "\n",
        "from app.common.llm_manager import LLMManager\n",
        "from app.agents.main import MainAgent\n",
        "\n",
        "# Create database connections\n",
        "client = ArangoClient(hosts=host)\n",
        "private_db = ArangoGraph(client.db(private_db_name, username=username, password=password, verify=True))\n",
        "public_db = ArangoGraph(client.db(public_db_name, username=username, password=password, verify=True))\n",
        "\n",
        "memory = MemorySaver()\n",
        "# Create and run the WhatsApp agent\n",
        "agent_claude = MainAgent(\n",
        "    model=LLMManager.get_anthropic_model(model_name=\"claude-3-7-sonnet-20250219\"),\n",
        "    private_db=private_db,\n",
        "    public_db=public_db,\n",
        "    checkpointer=memory,\n",
        "    confirmation_callback=lambda x: console.print(f\"\\nAgent Asked for confirmation: \\n{Markdown(x)}\")\n",
        ")\n",
        "agent_openai = MainAgent(\n",
        "    model=LLMManager.get_openai_model(model_name=\"gpt-4o\"),\n",
        "    private_db=private_db,\n",
        "    public_db=public_db,\n",
        "    checkpointer=memory,\n",
        "    confirmation_callback=lambda x: console.print(f\"\\nAgent Asked for confirmation: \\n{Markdown(x)}\")\n",
        ")"
      ]
    },
    {
      "cell_type": "markdown",
      "metadata": {
        "id": "TnsX-9OdK2BH"
      },
      "source": [
        "## Run Interactive Agent Sessions\n",
        "The final cells start interactive chat sessions with both AI agents, allowing for conversation with debugging enabled."
      ]
    },
    {
      "cell_type": "code",
      "execution_count": null,
      "metadata": {
        "colab": {
          "base_uri": "https://localhost:8080/",
          "height": 1000
        },
        "id": "C3KlzZwF2lH_",
        "outputId": "7ea2b27b-b4b8-4a79-9740-31eef6343aef"
      },
      "outputs": [
        {
          "data": {
            "text/html": [
              "<pre style=\"white-space:pre;overflow-x:auto;line-height:normal;font-family:Menlo,'DejaVu Sans Mono',consolas,'Courier New',monospace\">┏━━━━━━━━━━━━━━━━━━━━━━━━━━━━━━━━━━━━━━━━━━━━━━━━━━━━━━━━━━━━━━━━━━━━━━━━━━━━━━━━━━━━━━━━━━━━━━━━━━━━━━━━━━━━━━━━━┓\n",
              "┃                                          <span style=\"font-weight: bold\">AI Assistant Interactive Mode</span>                                          ┃\n",
              "┗━━━━━━━━━━━━━━━━━━━━━━━━━━━━━━━━━━━━━━━━━━━━━━━━━━━━━━━━━━━━━━━━━━━━━━━━━━━━━━━━━━━━━━━━━━━━━━━━━━━━━━━━━━━━━━━━━┛\n",
              "</pre>\n"
            ],
            "text/plain": [
              "┏━━━━━━━━━━━━━━━━━━━━━━━━━━━━━━━━━━━━━━━━━━━━━━━━━━━━━━━━━━━━━━━━━━━━━━━━━━━━━━━━━━━━━━━━━━━━━━━━━━━━━━━━━━━━━━━━━┓\n",
              "┃                                          \u001b[1mAI Assistant Interactive Mode\u001b[0m                                          ┃\n",
              "┗━━━━━━━━━━━━━━━━━━━━━━━━━━━━━━━━━━━━━━━━━━━━━━━━━━━━━━━━━━━━━━━━━━━━━━━━━━━━━━━━━━━━━━━━━━━━━━━━━━━━━━━━━━━━━━━━━┛\n"
            ]
          },
          "metadata": {},
          "output_type": "display_data"
        },
        {
          "data": {
            "text/html": [
              "<pre style=\"white-space:pre;overflow-x:auto;line-height:normal;font-family:Menlo,'DejaVu Sans Mono',consolas,'Courier New',monospace\">Type your messages below. Press Ctrl+C to exit.                                                                    \n",
              "</pre>\n"
            ],
            "text/plain": [
              "Type your messages below. Press Ctrl+C to exit.                                                                    \n"
            ]
          },
          "metadata": {},
          "output_type": "display_data"
        },
        {
          "data": {
            "text/html": [
              "<pre style=\"white-space:pre;overflow-x:auto;line-height:normal;font-family:Menlo,'DejaVu Sans Mono',consolas,'Courier New',monospace\"><span style=\"color: #808000; text-decoration-color: #808000\">───────────────────────────────────────────────────────────────────────────────────────────────────────────────────</span>\n",
              "</pre>\n"
            ],
            "text/plain": [
              "\u001b[33m───────────────────────────────────────────────────────────────────────────────────────────────────────────────────\u001b[0m\n"
            ]
          },
          "metadata": {},
          "output_type": "display_data"
        },
        {
          "name": "stdout",
          "output_type": "stream",
          "text": [
            "\n",
            "You: email hr for leave on next upcoming monday\n"
          ]
        },
        {
          "data": {
            "text/html": [
              "<pre style=\"white-space:pre;overflow-x:auto;line-height:normal;font-family:Menlo,'DejaVu Sans Mono',consolas,'Courier New',monospace\"><span style=\"font-style: italic\">Processing</span><span style=\"color: #808000; text-decoration-color: #808000; font-style: italic\">...</span>\n",
              "</pre>\n"
            ],
            "text/plain": [
              "\u001b[3mProcessing\u001b[0m\u001b[3;33m...\u001b[0m\n"
            ]
          },
          "metadata": {},
          "output_type": "display_data"
        },
        {
          "name": "stdout",
          "output_type": "stream",
          "text": [
            "================================\u001b[1m Human Message \u001b[0m=================================\n",
            "\n",
            "email hr for leave on next upcoming monday\n",
            "==================================\u001b[1m Ai Message \u001b[0m==================================\n",
            "Tool Calls:\n",
            "  get_current_datetime (call_4boSNuW1dU1puX38Mlg3TXdI)\n",
            " Call ID: call_4boSNuW1dU1puX38Mlg3TXdI\n",
            "  Args:\n",
            "=================================\u001b[1m Tool Message \u001b[0m=================================\n",
            "Name: get_current_datetime\n",
            "\n",
            "Current date and time: 2025-03-11 06:50:07\n",
            "==================================\u001b[1m Ai Message \u001b[0m==================================\n",
            "Tool Calls:\n",
            "  private_db_query (call_bQCdXsOCEATTjQfOWAQGMLpn)\n",
            " Call ID: call_bQCdXsOCEATTjQfOWAQGMLpn\n",
            "  Args:\n",
            "    query: HR email address\n",
            "\n",
            "\n",
            "\u001b[1m> Entering new ArangoGraphQAChain chain...\u001b[0m\n",
            "AQL Query (1):\u001b[32;1m\u001b[1;3m\n",
            "WITH contacts\n",
            "FOR contact IN contacts\n",
            "FILTER REGEX_TEST(contact.relationship, \"HR\", true)\n",
            "RETURN contact.email\n",
            "\u001b[0m\n",
            "AQL Result:\n",
            "\u001b[32;1m\u001b[1;3m['nancy.fox@email.com']\u001b[0m\n",
            "\n",
            "\u001b[1m> Finished chain.\u001b[0m\n",
            "=================================\u001b[1m Tool Message \u001b[0m=================================\n",
            "Name: private_db_query\n",
            "\n",
            "[\"nancy.fox@email.com\"]\n",
            "==================================\u001b[1m Ai Message \u001b[0m==================================\n",
            "Tool Calls:\n",
            "  human_confirmation (call_HqGsYNeBWkXmsq87Z6I5z076)\n",
            " Call ID: call_HqGsYNeBWkXmsq87Z6I5z076\n",
            "  Args:\n",
            "    query: I will send an email to HR (nancy.fox@email.com) requesting leave for the upcoming Monday, March 17, 2025. The email will be as follows:\n",
            "\n",
            "Subject: Leave Request for March 17, 2025\n",
            "\n",
            "Body:\n",
            "Dear HR,\n",
            "\n",
            "I am writing to request a leave of absence on Monday, March 17, 2025. Please let me know if you need any further information.\n",
            "\n",
            "Thank you.\n",
            "\n",
            "Please confirm if you would like me to proceed with sending this email.\n"
          ]
        },
        {
          "data": {
            "text/html": [
              "<pre style=\"white-space:pre;overflow-x:auto;line-height:normal;font-family:Menlo,'DejaVu Sans Mono',consolas,'Courier New',monospace\">\n",
              "Agent Asked for confirmation: \n",
              "<span style=\"font-weight: bold\">&lt;</span><span style=\"color: #ff00ff; text-decoration-color: #ff00ff; font-weight: bold\">rich.markdown.Markdown</span><span style=\"color: #000000; text-decoration-color: #000000\"> object at </span><span style=\"color: #008080; text-decoration-color: #008080; font-weight: bold\">0x79b43dad3cd0</span><span style=\"font-weight: bold\">&gt;</span>\n",
              "</pre>\n"
            ],
            "text/plain": [
              "\n",
              "Agent Asked for confirmation: \n",
              "\u001b[1m<\u001b[0m\u001b[1;95mrich.markdown.Markdown\u001b[0m\u001b[39m object at \u001b[0m\u001b[1;36m0x79b43dad3cd0\u001b[0m\u001b[1m>\u001b[0m\n"
            ]
          },
          "metadata": {},
          "output_type": "display_data"
        },
        {
          "data": {
            "text/html": [
              "<pre style=\"white-space:pre;overflow-x:auto;line-height:normal;font-family:Menlo,'DejaVu Sans Mono',consolas,'Courier New',monospace\">\n",
              "<span style=\"font-weight: bold\">Assistant:</span>\n",
              "</pre>\n"
            ],
            "text/plain": [
              "\n",
              "\u001b[1mAssistant:\u001b[0m\n"
            ]
          },
          "metadata": {},
          "output_type": "display_data"
        },
        {
          "data": {
            "text/html": [
              "<pre style=\"white-space:pre;overflow-x:auto;line-height:normal;font-family:Menlo,'DejaVu Sans Mono',consolas,'Courier New',monospace\"></pre>\n"
            ],
            "text/plain": []
          },
          "metadata": {},
          "output_type": "display_data"
        },
        {
          "name": "stdout",
          "output_type": "stream",
          "text": [
            "\n",
            "You: yes send it \n"
          ]
        },
        {
          "data": {
            "text/html": [
              "<pre style=\"white-space:pre;overflow-x:auto;line-height:normal;font-family:Menlo,'DejaVu Sans Mono',consolas,'Courier New',monospace\"><span style=\"font-style: italic\">Processing</span><span style=\"color: #808000; text-decoration-color: #808000; font-style: italic\">...</span>\n",
              "</pre>\n"
            ],
            "text/plain": [
              "\u001b[3mProcessing\u001b[0m\u001b[3;33m...\u001b[0m\n"
            ]
          },
          "metadata": {},
          "output_type": "display_data"
        },
        {
          "name": "stdout",
          "output_type": "stream",
          "text": [
            "==================================\u001b[1m Ai Message \u001b[0m==================================\n",
            "Tool Calls:\n",
            "  human_confirmation (call_HqGsYNeBWkXmsq87Z6I5z076)\n",
            " Call ID: call_HqGsYNeBWkXmsq87Z6I5z076\n",
            "  Args:\n",
            "    query: I will send an email to HR (nancy.fox@email.com) requesting leave for the upcoming Monday, March 17, 2025. The email will be as follows:\n",
            "\n",
            "Subject: Leave Request for March 17, 2025\n",
            "\n",
            "Body:\n",
            "Dear HR,\n",
            "\n",
            "I am writing to request a leave of absence on Monday, March 17, 2025. Please let me know if you need any further information.\n",
            "\n",
            "Thank you.\n",
            "\n",
            "Please confirm if you would like me to proceed with sending this email.\n"
          ]
        },
        {
          "data": {
            "text/html": [
              "<pre style=\"white-space:pre;overflow-x:auto;line-height:normal;font-family:Menlo,'DejaVu Sans Mono',consolas,'Courier New',monospace\">\n",
              "Agent Asked for confirmation: \n",
              "<span style=\"font-weight: bold\">&lt;</span><span style=\"color: #ff00ff; text-decoration-color: #ff00ff; font-weight: bold\">rich.markdown.Markdown</span><span style=\"color: #000000; text-decoration-color: #000000\"> object at </span><span style=\"color: #008080; text-decoration-color: #008080; font-weight: bold\">0x79b43d781b50</span><span style=\"font-weight: bold\">&gt;</span>\n",
              "</pre>\n"
            ],
            "text/plain": [
              "\n",
              "Agent Asked for confirmation: \n",
              "\u001b[1m<\u001b[0m\u001b[1;95mrich.markdown.Markdown\u001b[0m\u001b[39m object at \u001b[0m\u001b[1;36m0x79b43d781b50\u001b[0m\u001b[1m>\u001b[0m\n"
            ]
          },
          "metadata": {},
          "output_type": "display_data"
        },
        {
          "name": "stdout",
          "output_type": "stream",
          "text": [
            "=================================\u001b[1m Tool Message \u001b[0m=================================\n",
            "Name: human_confirmation\n",
            "\n",
            "yes send it \n",
            "==================================\u001b[1m Ai Message \u001b[0m==================================\n",
            "Tool Calls:\n",
            "  send_email (call_KfxomDKtmM7nS27oAhvigPfW)\n",
            " Call ID: call_KfxomDKtmM7nS27oAhvigPfW\n",
            "  Args:\n",
            "    to: ['nancy.fox@email.com']\n",
            "    subject: Leave Request for March 17, 2025\n",
            "    body: Dear HR,\n",
            "\n",
            "I am writing to request a leave of absence on Monday, March 17, 2025. Please let me know if you need any further information.\n",
            "\n",
            "Thank you.\n",
            "TOOL EXECUTION: {'to': ['nancy.fox@email.com'], 'subject': 'Leave Request for March 17, 2025', 'body': 'Dear HR,\\n\\nI am writing to request a leave of absence on Monday, March 17, 2025. Please let me know if you need any further information.\\n\\nThank you.', 'cc': [], 'bcc': [], 'date': '2025-03-11T06:50:31.996329'}\n",
            "=================================\u001b[1m Tool Message \u001b[0m=================================\n",
            "Name: send_email\n",
            "\n",
            "Email sent to nancy.fox@email.com with subject 'Leave Request for March 17, 2025'.\n",
            "==================================\u001b[1m Ai Message \u001b[0m==================================\n",
            "\n",
            "I've sent the email to HR (nancy.fox@email.com) requesting leave for Monday, March 17, 2025. Is there anything else you need help with today?\n"
          ]
        },
        {
          "data": {
            "text/html": [
              "<pre style=\"white-space:pre;overflow-x:auto;line-height:normal;font-family:Menlo,'DejaVu Sans Mono',consolas,'Courier New',monospace\">\n",
              "<span style=\"font-weight: bold\">Assistant:</span>\n",
              "</pre>\n"
            ],
            "text/plain": [
              "\n",
              "\u001b[1mAssistant:\u001b[0m\n"
            ]
          },
          "metadata": {},
          "output_type": "display_data"
        },
        {
          "data": {
            "text/html": [
              "<pre style=\"white-space:pre;overflow-x:auto;line-height:normal;font-family:Menlo,'DejaVu Sans Mono',consolas,'Courier New',monospace\">I've sent the email to HR (nancy.fox@email.com) requesting leave for Monday, March 17, 2025. Is there anything else\n",
              "you need help with today?                                                                                          \n",
              "</pre>\n"
            ],
            "text/plain": [
              "I've sent the email to HR (nancy.fox@email.com) requesting leave for Monday, March 17, 2025. Is there anything else\n",
              "you need help with today?                                                                                          \n"
            ]
          },
          "metadata": {},
          "output_type": "display_data"
        },
        {
          "name": "stdout",
          "output_type": "stream",
          "text": [
            "\n",
            "You: tell about my leave to qa person \n"
          ]
        },
        {
          "data": {
            "text/html": [
              "<pre style=\"white-space:pre;overflow-x:auto;line-height:normal;font-family:Menlo,'DejaVu Sans Mono',consolas,'Courier New',monospace\"><span style=\"font-style: italic\">Processing</span><span style=\"color: #808000; text-decoration-color: #808000; font-style: italic\">...</span>\n",
              "</pre>\n"
            ],
            "text/plain": [
              "\u001b[3mProcessing\u001b[0m\u001b[3;33m...\u001b[0m\n"
            ]
          },
          "metadata": {},
          "output_type": "display_data"
        },
        {
          "name": "stdout",
          "output_type": "stream",
          "text": [
            "================================\u001b[1m Human Message \u001b[0m=================================\n",
            "\n",
            "tell about my leave to qa person \n",
            "==================================\u001b[1m Ai Message \u001b[0m==================================\n",
            "Tool Calls:\n",
            "  private_db_query (call_2R3YHpkPUZj4Wb4UFVZBMnJN)\n",
            " Call ID: call_2R3YHpkPUZj4Wb4UFVZBMnJN\n",
            "  Args:\n",
            "    query: QA person's contact information\n",
            "\n",
            "\n",
            "\u001b[1m> Entering new ArangoGraphQAChain chain...\u001b[0m\n",
            "AQL Query (1):\u001b[32;1m\u001b[1;3m\n",
            "WITH contacts\n",
            "FOR contact IN contacts\n",
            "FILTER REGEX_TEST(contact.relationship, \"QA\", true)\n",
            "RETURN contact\n",
            "\u001b[0m\n",
            "AQL Result:\n",
            "\u001b[32;1m\u001b[1;3m[{'_key': 'sam_hill', '_id': 'contacts/sam_hill', '_rev': '_jV3iUrW--_', 'name': 'Sam Hill', 'phone_number': '5432109876', 'date_of_birth': '14-02-1988', 'marriage_anniversary': '07-08-2013', 'email': 'sam.hill@email.com', 'relationship': 'QA', 'slack_email': 'sam.hill@email.com', 'slack_username': 'samhill'}]\u001b[0m\n",
            "\n",
            "\u001b[1m> Finished chain.\u001b[0m\n",
            "=================================\u001b[1m Tool Message \u001b[0m=================================\n",
            "Name: private_db_query\n",
            "\n",
            "[{\"_key\": \"sam_hill\", \"_id\": \"contacts/sam_hill\", \"_rev\": \"_jV3iUrW--_\", \"name\": \"Sam Hill\", \"phone_number\": \"5432109876\", \"date_of_birth\": \"14-02-1988\", \"marriage_anniversary\": \"07-08-2013\", \"email\": \"sam.hill@email.com\", \"relationship\": \"QA\", \"slack_email\": \"sam.hill@email.com\", \"slack_username\": \"samhill\"}]\n",
            "==================================\u001b[1m Ai Message \u001b[0m==================================\n",
            "Tool Calls:\n",
            "  human_confirmation (call_i1clWEx1M6500eAwXzOy0HeP)\n",
            " Call ID: call_i1clWEx1M6500eAwXzOy0HeP\n",
            "  Args:\n",
            "    query: I will send a Slack message to Sam Hill (samhill) to inform them about your leave on Monday, March 17, 2025. The message will be as follows:\n",
            "\n",
            "\"Hi Sam,\n",
            "\n",
            "I wanted to let you know that I will be on leave on Monday, March 17, 2025. Please let me know if there's anything urgent that needs my attention before then.\n",
            "\n",
            "Thanks!\"\n",
            "\n",
            "Please confirm if you would like me to proceed with sending this message.\n"
          ]
        },
        {
          "data": {
            "text/html": [
              "<pre style=\"white-space:pre;overflow-x:auto;line-height:normal;font-family:Menlo,'DejaVu Sans Mono',consolas,'Courier New',monospace\">\n",
              "Agent Asked for confirmation: \n",
              "<span style=\"font-weight: bold\">&lt;</span><span style=\"color: #ff00ff; text-decoration-color: #ff00ff; font-weight: bold\">rich.markdown.Markdown</span><span style=\"color: #000000; text-decoration-color: #000000\"> object at </span><span style=\"color: #008080; text-decoration-color: #008080; font-weight: bold\">0x79b43d768710</span><span style=\"font-weight: bold\">&gt;</span>\n",
              "</pre>\n"
            ],
            "text/plain": [
              "\n",
              "Agent Asked for confirmation: \n",
              "\u001b[1m<\u001b[0m\u001b[1;95mrich.markdown.Markdown\u001b[0m\u001b[39m object at \u001b[0m\u001b[1;36m0x79b43d768710\u001b[0m\u001b[1m>\u001b[0m\n"
            ]
          },
          "metadata": {},
          "output_type": "display_data"
        },
        {
          "data": {
            "text/html": [
              "<pre style=\"white-space:pre;overflow-x:auto;line-height:normal;font-family:Menlo,'DejaVu Sans Mono',consolas,'Courier New',monospace\">\n",
              "<span style=\"font-weight: bold\">Assistant:</span>\n",
              "</pre>\n"
            ],
            "text/plain": [
              "\n",
              "\u001b[1mAssistant:\u001b[0m\n"
            ]
          },
          "metadata": {},
          "output_type": "display_data"
        },
        {
          "data": {
            "text/html": [
              "<pre style=\"white-space:pre;overflow-x:auto;line-height:normal;font-family:Menlo,'DejaVu Sans Mono',consolas,'Courier New',monospace\"></pre>\n"
            ],
            "text/plain": []
          },
          "metadata": {},
          "output_type": "display_data"
        },
        {
          "name": "stdout",
          "output_type": "stream",
          "text": [
            "\n",
            "You: send it to slack \n"
          ]
        },
        {
          "data": {
            "text/html": [
              "<pre style=\"white-space:pre;overflow-x:auto;line-height:normal;font-family:Menlo,'DejaVu Sans Mono',consolas,'Courier New',monospace\"><span style=\"font-style: italic\">Processing</span><span style=\"color: #808000; text-decoration-color: #808000; font-style: italic\">...</span>\n",
              "</pre>\n"
            ],
            "text/plain": [
              "\u001b[3mProcessing\u001b[0m\u001b[3;33m...\u001b[0m\n"
            ]
          },
          "metadata": {},
          "output_type": "display_data"
        },
        {
          "name": "stdout",
          "output_type": "stream",
          "text": [
            "==================================\u001b[1m Ai Message \u001b[0m==================================\n",
            "Tool Calls:\n",
            "  human_confirmation (call_i1clWEx1M6500eAwXzOy0HeP)\n",
            " Call ID: call_i1clWEx1M6500eAwXzOy0HeP\n",
            "  Args:\n",
            "    query: I will send a Slack message to Sam Hill (samhill) to inform them about your leave on Monday, March 17, 2025. The message will be as follows:\n",
            "\n",
            "\"Hi Sam,\n",
            "\n",
            "I wanted to let you know that I will be on leave on Monday, March 17, 2025. Please let me know if there's anything urgent that needs my attention before then.\n",
            "\n",
            "Thanks!\"\n",
            "\n",
            "Please confirm if you would like me to proceed with sending this message.\n"
          ]
        },
        {
          "data": {
            "text/html": [
              "<pre style=\"white-space:pre;overflow-x:auto;line-height:normal;font-family:Menlo,'DejaVu Sans Mono',consolas,'Courier New',monospace\">\n",
              "Agent Asked for confirmation: \n",
              "<span style=\"font-weight: bold\">&lt;</span><span style=\"color: #ff00ff; text-decoration-color: #ff00ff; font-weight: bold\">rich.markdown.Markdown</span><span style=\"color: #000000; text-decoration-color: #000000\"> object at </span><span style=\"color: #008080; text-decoration-color: #008080; font-weight: bold\">0x79b43d91c350</span><span style=\"font-weight: bold\">&gt;</span>\n",
              "</pre>\n"
            ],
            "text/plain": [
              "\n",
              "Agent Asked for confirmation: \n",
              "\u001b[1m<\u001b[0m\u001b[1;95mrich.markdown.Markdown\u001b[0m\u001b[39m object at \u001b[0m\u001b[1;36m0x79b43d91c350\u001b[0m\u001b[1m>\u001b[0m\n"
            ]
          },
          "metadata": {},
          "output_type": "display_data"
        },
        {
          "name": "stdout",
          "output_type": "stream",
          "text": [
            "=================================\u001b[1m Tool Message \u001b[0m=================================\n",
            "Name: human_confirmation\n",
            "\n",
            "send it to slack \n",
            "==================================\u001b[1m Ai Message \u001b[0m==================================\n",
            "Tool Calls:\n",
            "  send_message (call_qlVZFECVj52POZCHhoKv4nI6)\n",
            " Call ID: call_qlVZFECVj52POZCHhoKv4nI6\n",
            "  Args:\n",
            "    channel: samhill\n",
            "    message: Hi Sam,\n",
            "\n",
            "I wanted to let you know that I will be on leave on Monday, March 17, 2025. Please let me know if there's anything urgent that needs my attention before then.\n",
            "\n",
            "Thanks!\n",
            "    is_channel: False\n",
            "TOOL EXECUTION: {'from': 'navpreetdevpuri', 'to': 'samhill', 'is_channel': False, 'text': \"Hi Sam,\\n\\nI wanted to let you know that I will be on leave on Monday, March 17, 2025. Please let me know if there's anything urgent that needs my attention before then.\\n\\nThanks!\", 'timestamp': '2025-03-11T06:51:02.524236'}\n",
            "=================================\u001b[1m Tool Message \u001b[0m=================================\n",
            "Name: send_message\n",
            "\n",
            "Message sent to channel samhill: 'Hi Sam,\n",
            "\n",
            "I wanted to let you know that I will be on leave on Monday, March 17, 2025. Please let me know if there's anything urgent that needs my attention before then.\n",
            "\n",
            "Thanks!'\n",
            "==================================\u001b[1m Ai Message \u001b[0m==================================\n",
            "\n",
            "I've sent the message to Sam Hill on Slack, informing them about your leave on Monday, March 17, 2025. Is there anything else you'd like to do?\n"
          ]
        },
        {
          "data": {
            "text/html": [
              "<pre style=\"white-space:pre;overflow-x:auto;line-height:normal;font-family:Menlo,'DejaVu Sans Mono',consolas,'Courier New',monospace\">\n",
              "<span style=\"font-weight: bold\">Assistant:</span>\n",
              "</pre>\n"
            ],
            "text/plain": [
              "\n",
              "\u001b[1mAssistant:\u001b[0m\n"
            ]
          },
          "metadata": {},
          "output_type": "display_data"
        },
        {
          "data": {
            "text/html": [
              "<pre style=\"white-space:pre;overflow-x:auto;line-height:normal;font-family:Menlo,'DejaVu Sans Mono',consolas,'Courier New',monospace\">I've sent the message to Sam Hill on Slack, informing them about your leave on Monday, March 17, 2025. Is there    \n",
              "anything else you'd like to do?                                                                                    \n",
              "</pre>\n"
            ],
            "text/plain": [
              "I've sent the message to Sam Hill on Slack, informing them about your leave on Monday, March 17, 2025. Is there    \n",
              "anything else you'd like to do?                                                                                    \n"
            ]
          },
          "metadata": {},
          "output_type": "display_data"
        },
        {
          "name": "stdout",
          "output_type": "stream",
          "text": [
            "\n",
            "You: message wife that we are going out on this frinday evening, also tell the leave i took \n"
          ]
        },
        {
          "data": {
            "text/html": [
              "<pre style=\"white-space:pre;overflow-x:auto;line-height:normal;font-family:Menlo,'DejaVu Sans Mono',consolas,'Courier New',monospace\"><span style=\"font-style: italic\">Processing</span><span style=\"color: #808000; text-decoration-color: #808000; font-style: italic\">...</span>\n",
              "</pre>\n"
            ],
            "text/plain": [
              "\u001b[3mProcessing\u001b[0m\u001b[3;33m...\u001b[0m\n"
            ]
          },
          "metadata": {},
          "output_type": "display_data"
        },
        {
          "name": "stdout",
          "output_type": "stream",
          "text": [
            "================================\u001b[1m Human Message \u001b[0m=================================\n",
            "\n",
            "message wife that we are going out on this frinday evening, also tell the leave i took \n",
            "==================================\u001b[1m Ai Message \u001b[0m==================================\n",
            "Tool Calls:\n",
            "  private_db_query (call_ZYMLALmHIbjJXorOLhMbcKxQ)\n",
            " Call ID: call_ZYMLALmHIbjJXorOLhMbcKxQ\n",
            "  Args:\n",
            "    query: wife's contact information\n",
            "\n",
            "\n",
            "\u001b[1m> Entering new ArangoGraphQAChain chain...\u001b[0m\n",
            "AQL Query (1):\u001b[32;1m\u001b[1;3m\n",
            "WITH contacts\n",
            "FOR contact IN contacts\n",
            "FILTER REGEX_TEST(contact.relationship, \"wife\", true)\n",
            "RETURN contact\n",
            "\u001b[0m\n",
            "AQL Result:\n",
            "\u001b[32;1m\u001b[1;3m[{'_key': 'anjali_laishram', '_id': 'contacts/anjali_laishram', '_rev': '_jV3iXYS--A', 'name': 'Anjali Laishram', 'phone_number': '3210987653', 'date_of_birth': '14-02-1992', 'marriage_anniversary': '07-12-2017', 'email': 'anjali.laishram@email.com', 'relationship': 'Wife', 'whatsapp_number': '3210987653', 'whatsapp_username': 'anjalilaishram'}]\u001b[0m\n",
            "\n",
            "\u001b[1m> Finished chain.\u001b[0m\n",
            "=================================\u001b[1m Tool Message \u001b[0m=================================\n",
            "Name: private_db_query\n",
            "\n",
            "[{\"_key\": \"anjali_laishram\", \"_id\": \"contacts/anjali_laishram\", \"_rev\": \"_jV3iXYS--A\", \"name\": \"Anjali Laishram\", \"phone_number\": \"3210987653\", \"date_of_birth\": \"14-02-1992\", \"marriage_anniversary\": \"07-12-2017\", \"email\": \"anjali.laishram@email.com\", \"relationship\": \"Wife\", \"whatsapp_number\": \"3210987653\", \"whatsapp_username\": \"anjalilaishram\"}]\n",
            "==================================\u001b[1m Ai Message \u001b[0m==================================\n",
            "Tool Calls:\n",
            "  human_confirmation (call_lhiJFLqQ9uuRRCfui7yuAYnK)\n",
            " Call ID: call_lhiJFLqQ9uuRRCfui7yuAYnK\n",
            "  Args:\n",
            "    query: I will send a WhatsApp message to your wife, Anjali Laishram, to inform her that you are going out this Friday evening and about the leave you took for Monday, March 17, 2025. The message will be as follows:\n",
            "\n",
            "\"Hi Anjali,\n",
            "\n",
            "I just wanted to let you know that we are going out this Friday evening. Also, I've taken a leave for Monday, March 17, 2025.\n",
            "\n",
            "Looking forward to our time together!\n",
            "\n",
            "Love, [Your Name]\"\n",
            "\n",
            "Please confirm if you would like me to proceed with sending this message.\n"
          ]
        },
        {
          "data": {
            "text/html": [
              "<pre style=\"white-space:pre;overflow-x:auto;line-height:normal;font-family:Menlo,'DejaVu Sans Mono',consolas,'Courier New',monospace\">\n",
              "Agent Asked for confirmation: \n",
              "<span style=\"font-weight: bold\">&lt;</span><span style=\"color: #ff00ff; text-decoration-color: #ff00ff; font-weight: bold\">rich.markdown.Markdown</span><span style=\"color: #000000; text-decoration-color: #000000\"> object at </span><span style=\"color: #008080; text-decoration-color: #008080; font-weight: bold\">0x79b43d92c290</span><span style=\"font-weight: bold\">&gt;</span>\n",
              "</pre>\n"
            ],
            "text/plain": [
              "\n",
              "Agent Asked for confirmation: \n",
              "\u001b[1m<\u001b[0m\u001b[1;95mrich.markdown.Markdown\u001b[0m\u001b[39m object at \u001b[0m\u001b[1;36m0x79b43d92c290\u001b[0m\u001b[1m>\u001b[0m\n"
            ]
          },
          "metadata": {},
          "output_type": "display_data"
        },
        {
          "data": {
            "text/html": [
              "<pre style=\"white-space:pre;overflow-x:auto;line-height:normal;font-family:Menlo,'DejaVu Sans Mono',consolas,'Courier New',monospace\">\n",
              "<span style=\"font-weight: bold\">Assistant:</span>\n",
              "</pre>\n"
            ],
            "text/plain": [
              "\n",
              "\u001b[1mAssistant:\u001b[0m\n"
            ]
          },
          "metadata": {},
          "output_type": "display_data"
        },
        {
          "data": {
            "text/html": [
              "<pre style=\"white-space:pre;overflow-x:auto;line-height:normal;font-family:Menlo,'DejaVu Sans Mono',consolas,'Courier New',monospace\"></pre>\n"
            ],
            "text/plain": []
          },
          "metadata": {},
          "output_type": "display_data"
        },
        {
          "name": "stdout",
          "output_type": "stream",
          "text": [
            "\n",
            "You: [Your Name] use my name \n"
          ]
        },
        {
          "data": {
            "text/html": [
              "<pre style=\"white-space:pre;overflow-x:auto;line-height:normal;font-family:Menlo,'DejaVu Sans Mono',consolas,'Courier New',monospace\"><span style=\"font-style: italic\">Processing</span><span style=\"color: #808000; text-decoration-color: #808000; font-style: italic\">...</span>\n",
              "</pre>\n"
            ],
            "text/plain": [
              "\u001b[3mProcessing\u001b[0m\u001b[3;33m...\u001b[0m\n"
            ]
          },
          "metadata": {},
          "output_type": "display_data"
        },
        {
          "name": "stdout",
          "output_type": "stream",
          "text": [
            "==================================\u001b[1m Ai Message \u001b[0m==================================\n",
            "Tool Calls:\n",
            "  human_confirmation (call_lhiJFLqQ9uuRRCfui7yuAYnK)\n",
            " Call ID: call_lhiJFLqQ9uuRRCfui7yuAYnK\n",
            "  Args:\n",
            "    query: I will send a WhatsApp message to your wife, Anjali Laishram, to inform her that you are going out this Friday evening and about the leave you took for Monday, March 17, 2025. The message will be as follows:\n",
            "\n",
            "\"Hi Anjali,\n",
            "\n",
            "I just wanted to let you know that we are going out this Friday evening. Also, I've taken a leave for Monday, March 17, 2025.\n",
            "\n",
            "Looking forward to our time together!\n",
            "\n",
            "Love, [Your Name]\"\n",
            "\n",
            "Please confirm if you would like me to proceed with sending this message.\n"
          ]
        },
        {
          "data": {
            "text/html": [
              "<pre style=\"white-space:pre;overflow-x:auto;line-height:normal;font-family:Menlo,'DejaVu Sans Mono',consolas,'Courier New',monospace\">\n",
              "Agent Asked for confirmation: \n",
              "<span style=\"font-weight: bold\">&lt;</span><span style=\"color: #ff00ff; text-decoration-color: #ff00ff; font-weight: bold\">rich.markdown.Markdown</span><span style=\"color: #000000; text-decoration-color: #000000\"> object at </span><span style=\"color: #008080; text-decoration-color: #008080; font-weight: bold\">0x79b43d7a0d90</span><span style=\"font-weight: bold\">&gt;</span>\n",
              "</pre>\n"
            ],
            "text/plain": [
              "\n",
              "Agent Asked for confirmation: \n",
              "\u001b[1m<\u001b[0m\u001b[1;95mrich.markdown.Markdown\u001b[0m\u001b[39m object at \u001b[0m\u001b[1;36m0x79b43d7a0d90\u001b[0m\u001b[1m>\u001b[0m\n"
            ]
          },
          "metadata": {},
          "output_type": "display_data"
        },
        {
          "name": "stdout",
          "output_type": "stream",
          "text": [
            "=================================\u001b[1m Tool Message \u001b[0m=================================\n",
            "Name: human_confirmation\n",
            "\n",
            "[Your Name] use my name \n",
            "==================================\u001b[1m Ai Message \u001b[0m==================================\n",
            "Tool Calls:\n",
            "  about_me (call_pq1CyWpitMK8YCGDy56HrRWN)\n",
            " Call ID: call_pq1CyWpitMK8YCGDy56HrRWN\n",
            "  Args:\n",
            "=================================\u001b[1m Tool Message \u001b[0m=================================\n",
            "Name: about_me\n",
            "\n",
            "{\"_key\": \"me\", \"_id\": \"me/me\", \"_rev\": \"_jV2xVfq---\", \"full_name\": \"Navpreet Singh\", \"user_id\": \"1270834\", \"email\": \"navpreetdevpuri@gmail.com\", \"whatsapp_number\": \"+1 647 981 0768\", \"whatsapp_username\": \"navpreetdevpuri\", \"slack_email\": \"navpreetdevpuri@gmail.com\", \"slack_username\": \"navpreetdevpuri\", \"phone\": \"+1 647 981 0768\", \"dob\": \"16-02-2000\", \"marital_status\": \"married\", \"marriage_anniversary\": \"07-12-2017\", \"address\": {\"street\": \"BTM Layout\", \"city\": \"Bengaluru\", \"state\": \"Karnataka\", \"country\": \"India\", \"pincode\": \"560076\", \"latitude\": 2.9096566, \"longitude\": 77.6114694}, \"work\": {\"company\": \"Dash\", \"designation\": \"Software Engineer\", \"department\": \"Engineering\", \"location\": \"Seattle, Washington, United States\", \"start_date\": \"01-01-2020\", \"end_date\": \"01-01-2024\", \"description\": \"I worked at Dash for 4 years as a Software Engineer. I was responsible for developing and maintaining the company's software products.\"}, \"education\": {\"school\": \"IIT Bombay\", \"degree\": \"Master of Technology\", \"field_of_study\": \"Computer Science and Engineering\", \"start_date\": \"01-01-2018\", \"end_date\": \"01-01-2022\", \"description\": \"I studied Computer Science and Engineering at IIT Bombay for 4 years. I was responsible for developing and maintaining the company's software products.\"}, \"hobbies\": [\"Reading\", \"Playing Cricket\", \"Watching Netflix\", \"Traveling\"], \"interests\": [\"ArangoDB\", \"Artificial Intelligence\", \"Machine Learning\", \"Deep Learning\", \"Computer Vision\"], \"skills\": [\"ArangoDB\", \"Python\", \"Java\", \"C++\", \"JavaScript\", \"React\", \"Node.js\", \"Express\", \"MongoDB\", \"MySQL\", \"PostgreSQL\", \"Docker\"]}\n",
            "==================================\u001b[1m Ai Message \u001b[0m==================================\n",
            "Tool Calls:\n",
            "  human_confirmation (call_yP5duVknO3Tg3y4cQjq6HXqa)\n",
            " Call ID: call_yP5duVknO3Tg3y4cQjq6HXqa\n",
            "  Args:\n",
            "    query: I will send a WhatsApp message to your wife, Anjali Laishram, to inform her that you are going out this Friday evening and about the leave you took for Monday, March 17, 2025. The message will be as follows:\n",
            "\n",
            "\"Hi Anjali,\n",
            "\n",
            "I just wanted to let you know that we are going out this Friday evening. Also, I've taken a leave for Monday, March 17, 2025.\n",
            "\n",
            "Looking forward to our time together!\n",
            "\n",
            "Love, Navpreet Singh\"\n",
            "\n",
            "Please confirm if you would like me to proceed with sending this message.\n"
          ]
        },
        {
          "data": {
            "text/html": [
              "<pre style=\"white-space:pre;overflow-x:auto;line-height:normal;font-family:Menlo,'DejaVu Sans Mono',consolas,'Courier New',monospace\">\n",
              "Agent Asked for confirmation: \n",
              "<span style=\"font-weight: bold\">&lt;</span><span style=\"color: #ff00ff; text-decoration-color: #ff00ff; font-weight: bold\">rich.markdown.Markdown</span><span style=\"color: #000000; text-decoration-color: #000000\"> object at </span><span style=\"color: #008080; text-decoration-color: #008080; font-weight: bold\">0x79b43d6ae790</span><span style=\"font-weight: bold\">&gt;</span>\n",
              "</pre>\n"
            ],
            "text/plain": [
              "\n",
              "Agent Asked for confirmation: \n",
              "\u001b[1m<\u001b[0m\u001b[1;95mrich.markdown.Markdown\u001b[0m\u001b[39m object at \u001b[0m\u001b[1;36m0x79b43d6ae790\u001b[0m\u001b[1m>\u001b[0m\n"
            ]
          },
          "metadata": {},
          "output_type": "display_data"
        },
        {
          "data": {
            "text/html": [
              "<pre style=\"white-space:pre;overflow-x:auto;line-height:normal;font-family:Menlo,'DejaVu Sans Mono',consolas,'Courier New',monospace\">\n",
              "<span style=\"font-weight: bold\">Assistant:</span>\n",
              "</pre>\n"
            ],
            "text/plain": [
              "\n",
              "\u001b[1mAssistant:\u001b[0m\n"
            ]
          },
          "metadata": {},
          "output_type": "display_data"
        },
        {
          "data": {
            "text/html": [
              "<pre style=\"white-space:pre;overflow-x:auto;line-height:normal;font-family:Menlo,'DejaVu Sans Mono',consolas,'Courier New',monospace\"></pre>\n"
            ],
            "text/plain": []
          },
          "metadata": {},
          "output_type": "display_data"
        },
        {
          "name": "stdout",
          "output_type": "stream",
          "text": [
            "\n",
            "You: send it \n"
          ]
        },
        {
          "data": {
            "text/html": [
              "<pre style=\"white-space:pre;overflow-x:auto;line-height:normal;font-family:Menlo,'DejaVu Sans Mono',consolas,'Courier New',monospace\"><span style=\"font-style: italic\">Processing</span><span style=\"color: #808000; text-decoration-color: #808000; font-style: italic\">...</span>\n",
              "</pre>\n"
            ],
            "text/plain": [
              "\u001b[3mProcessing\u001b[0m\u001b[3;33m...\u001b[0m\n"
            ]
          },
          "metadata": {},
          "output_type": "display_data"
        },
        {
          "name": "stdout",
          "output_type": "stream",
          "text": [
            "==================================\u001b[1m Ai Message \u001b[0m==================================\n",
            "Tool Calls:\n",
            "  human_confirmation (call_yP5duVknO3Tg3y4cQjq6HXqa)\n",
            " Call ID: call_yP5duVknO3Tg3y4cQjq6HXqa\n",
            "  Args:\n",
            "    query: I will send a WhatsApp message to your wife, Anjali Laishram, to inform her that you are going out this Friday evening and about the leave you took for Monday, March 17, 2025. The message will be as follows:\n",
            "\n",
            "\"Hi Anjali,\n",
            "\n",
            "I just wanted to let you know that we are going out this Friday evening. Also, I've taken a leave for Monday, March 17, 2025.\n",
            "\n",
            "Looking forward to our time together!\n",
            "\n",
            "Love, Navpreet Singh\"\n",
            "\n",
            "Please confirm if you would like me to proceed with sending this message.\n"
          ]
        },
        {
          "data": {
            "text/html": [
              "<pre style=\"white-space:pre;overflow-x:auto;line-height:normal;font-family:Menlo,'DejaVu Sans Mono',consolas,'Courier New',monospace\">\n",
              "Agent Asked for confirmation: \n",
              "<span style=\"font-weight: bold\">&lt;</span><span style=\"color: #ff00ff; text-decoration-color: #ff00ff; font-weight: bold\">rich.markdown.Markdown</span><span style=\"color: #000000; text-decoration-color: #000000\"> object at </span><span style=\"color: #008080; text-decoration-color: #008080; font-weight: bold\">0x79b43d3261d0</span><span style=\"font-weight: bold\">&gt;</span>\n",
              "</pre>\n"
            ],
            "text/plain": [
              "\n",
              "Agent Asked for confirmation: \n",
              "\u001b[1m<\u001b[0m\u001b[1;95mrich.markdown.Markdown\u001b[0m\u001b[39m object at \u001b[0m\u001b[1;36m0x79b43d3261d0\u001b[0m\u001b[1m>\u001b[0m\n"
            ]
          },
          "metadata": {},
          "output_type": "display_data"
        },
        {
          "name": "stdout",
          "output_type": "stream",
          "text": [
            "=================================\u001b[1m Tool Message \u001b[0m=================================\n",
            "Name: human_confirmation\n",
            "\n",
            "send it \n",
            "==================================\u001b[1m Ai Message \u001b[0m==================================\n",
            "Tool Calls:\n",
            "  send_message (call_L7AANF2T3QIgKbOf86HH5RHF)\n",
            " Call ID: call_L7AANF2T3QIgKbOf86HH5RHF\n",
            "  Args:\n",
            "    channel: anjalilaishram\n",
            "    message: Hi Anjali,\n",
            "\n",
            "I just wanted to let you know that we are going out this Friday evening. Also, I've taken a leave for Monday, March 17, 2025.\n",
            "\n",
            "Looking forward to our time together!\n",
            "\n",
            "Love, Navpreet Singh\n",
            "    is_channel: False\n",
            "TOOL EXECUTION: {'from': 'navpreetdevpuri', 'to': 'anjalilaishram', 'is_channel': False, 'text': \"Hi Anjali,\\n\\nI just wanted to let you know that we are going out this Friday evening. Also, I've taken a leave for Monday, March 17, 2025.\\n\\nLooking forward to our time together!\\n\\nLove, Navpreet Singh\", 'timestamp': '2025-03-11T06:51:58.829230'}\n",
            "=================================\u001b[1m Tool Message \u001b[0m=================================\n",
            "Name: send_message\n",
            "\n",
            "Message sent to channel anjalilaishram: 'Hi Anjali,\n",
            "\n",
            "I just wanted to let you know that we are going out this Friday evening. Also, I've taken a leave for Monday, March 17, 2025.\n",
            "\n",
            "Looking forward to our time together!\n",
            "\n",
            "Love, Navpreet Singh'\n",
            "==================================\u001b[1m Ai Message \u001b[0m==================================\n",
            "\n",
            "I've sent the WhatsApp message to your wife, Anjali Laishram, informing her about your plans for Friday evening and your leave on Monday. Is there anything else you'd like to do?\n"
          ]
        },
        {
          "data": {
            "text/html": [
              "<pre style=\"white-space:pre;overflow-x:auto;line-height:normal;font-family:Menlo,'DejaVu Sans Mono',consolas,'Courier New',monospace\">\n",
              "<span style=\"font-weight: bold\">Assistant:</span>\n",
              "</pre>\n"
            ],
            "text/plain": [
              "\n",
              "\u001b[1mAssistant:\u001b[0m\n"
            ]
          },
          "metadata": {},
          "output_type": "display_data"
        },
        {
          "data": {
            "text/html": [
              "<pre style=\"white-space:pre;overflow-x:auto;line-height:normal;font-family:Menlo,'DejaVu Sans Mono',consolas,'Courier New',monospace\">I've sent the WhatsApp message to your wife, Anjali Laishram, informing her about your plans for Friday evening and\n",
              "your leave on Monday. Is there anything else you'd like to do?                                                     \n",
              "</pre>\n"
            ],
            "text/plain": [
              "I've sent the WhatsApp message to your wife, Anjali Laishram, informing her about your plans for Friday evening and\n",
              "your leave on Monday. Is there anything else you'd like to do?                                                     \n"
            ]
          },
          "metadata": {},
          "output_type": "display_data"
        },
        {
          "name": "stdout",
          "output_type": "stream",
          "text": [
            "\n",
            "You: Find some restaurant for monday evening, romatic one near me \n"
          ]
        },
        {
          "data": {
            "text/html": [
              "<pre style=\"white-space:pre;overflow-x:auto;line-height:normal;font-family:Menlo,'DejaVu Sans Mono',consolas,'Courier New',monospace\"><span style=\"font-style: italic\">Processing</span><span style=\"color: #808000; text-decoration-color: #808000; font-style: italic\">...</span>\n",
              "</pre>\n"
            ],
            "text/plain": [
              "\u001b[3mProcessing\u001b[0m\u001b[3;33m...\u001b[0m\n"
            ]
          },
          "metadata": {},
          "output_type": "display_data"
        },
        {
          "name": "stdout",
          "output_type": "stream",
          "text": [
            "================================\u001b[1m Human Message \u001b[0m=================================\n",
            "\n",
            "Find some restaurant for monday evening, romatic one near me \n",
            "==================================\u001b[1m Ai Message \u001b[0m==================================\n",
            "Tool Calls:\n",
            "  public_db_query (call_09wNj7MBIuGlIRhHfme1YxgX)\n",
            " Call ID: call_09wNj7MBIuGlIRhHfme1YxgX\n",
            "  Args:\n",
            "    query: romantic restaurants near BTM Layout, Bengaluru, Karnataka, India\n",
            "\n",
            "\n",
            "\u001b[1m> Entering new ArangoGraphQAChain chain...\u001b[0m\n",
            "AQL Query (1):\u001b[32;1m\u001b[1;3m\n",
            "WITH restaurants, dineout_highlights, restaurant_dineout_highlight\n",
            "FOR restaurant IN restaurants\n",
            "    FILTER REGEX_TEST(restaurant.address.street, \"(?i)BTM Layout\") \n",
            "    AND REGEX_TEST(restaurant.address.city, \"(?i)Bangalore|Bengaluru\")\n",
            "    FOR highlight IN dineout_highlights\n",
            "        FILTER REGEX_TEST(highlight.text, \"(?i)romantic\")\n",
            "        FOR edge IN restaurant_dineout_highlight\n",
            "            FILTER edge._from == restaurant._id AND edge._to == highlight._id\n",
            "            RETURN restaurant\n",
            "\u001b[0m\n",
            "AQL Result:\n",
            "\u001b[32;1m\u001b[1;3m[{'_key': 'Minsk', '_id': 'restaurants/Minsk', '_rev': '_jV3igjS--J', 'name': 'Minsk', 'knownFor': None, 'opening_hours': {'fri': [{'start': 43200, 'end': 90000, 'display': '12:00 - 01:00'}], 'mon': [{'start': 43200, 'end': 86400, 'display': '12:00 - 00:00'}], 'sat': [{'start': 43200, 'end': 90000, 'display': '12:00 - 01:00'}], 'sun': [{'start': 43200, 'end': 90000, 'display': '12:00 - 01:00'}], 'thu': [{'start': 43200, 'end': 86400, 'display': '12:00 - 00:00'}], 'tue': [{'start': 43200, 'end': 86400, 'display': '12:00 - 00:00'}], 'wed': [{'start': 43200, 'end': 86400, 'display': '12:00 - 00:00'}]}, 'ratings': {'delivery': {'popularity': 0, 'rating': None, 'reviewCount': 0}, 'dining': {'popularity': 2520, 'rating': 4.2, 'reviewCount': 600}}, 'address': {'city': 'Bangalore', 'country': 'India', 'latitude': 12.917242005, 'longitude': 77.6089533115, 'street': '212, 13th Main, 1st Cross, Aicobonagar, BTM Layout 1st Stage, BTM, Bangalore'}, 'contact': {'phone_numbers': ['+919164072727', '+919164099066']}, 'restaurant_images': {'dp_image_filename': '3f27e2cd89e2ba80.jpg', 'image_links': ['e68f0f97a074bb16.jpg', '5a382f8d7bdbb198.jpg', '5a5969aa7404836f.jpg', 'aacd65a0e77f3dee.jpg', 'b11e060860a99b6d.jpg', '7e0edaeedd988b55.jpg', '222a7b5fab40184f.jpg', '3643faef202c2f9e.jpg', '3f27e2cd89e2ba80.jpg', '3f27e2cd89e2ba80.jpg']}, 'is_fully_booked': False, 'people_liked': {'description': None, 'title': None}, 'average_cost_for_two_details': {'cost': 1400, 'how_it_computed': 'The cost for two is computed as follows: Average of 2 appetizers + 2 mains + 2 beverages + 1 dessert. The actual cost you incur at a restaurant might change depending on your appetite, or with changes in restaurant menu prices.'}, 'is_dineout_available': True}]\u001b[0m\n",
            "\n",
            "\u001b[1m> Finished chain.\u001b[0m\n",
            "=================================\u001b[1m Tool Message \u001b[0m=================================\n",
            "Name: public_db_query\n",
            "\n",
            "[{\"_key\": \"Minsk\", \"_id\": \"restaurants/Minsk\", \"_rev\": \"_jV3igjS--J\", \"name\": \"Minsk\", \"knownFor\": null, \"opening_hours\": {\"fri\": [{\"start\": 43200, \"end\": 90000, \"display\": \"12:00 - 01:00\"}], \"mon\": [{\"start\": 43200, \"end\": 86400, \"display\": \"12:00 - 00:00\"}], \"sat\": [{\"start\": 43200, \"end\": 90000, \"display\": \"12:00 - 01:00\"}], \"sun\": [{\"start\": 43200, \"end\": 90000, \"display\": \"12:00 - 01:00\"}], \"thu\": [{\"start\": 43200, \"end\": 86400, \"display\": \"12:00 - 00:00\"}], \"tue\": [{\"start\": 43200, \"end\": 86400, \"display\": \"12:00 - 00:00\"}], \"wed\": [{\"start\": 43200, \"end\": 86400, \"display\": \"12:00 - 00:00\"}]}, \"ratings\": {\"delivery\": {\"popularity\": 0, \"rating\": null, \"reviewCount\": 0}, \"dining\": {\"popularity\": 2520, \"rating\": 4.2, \"reviewCount\": 600}}, \"address\": {\"city\": \"Bangalore\", \"country\": \"India\", \"latitude\": 12.917242005, \"longitude\": 77.6089533115, \"street\": \"212, 13th Main, 1st Cross, Aicobonagar, BTM Layout 1st Stage, BTM, Bangalore\"}, \"contact\": {\"phone_numbers\": [\"+919164072727\", \"+919164099066\"]}, \"restaurant_images\": {\"dp_image_filename\": \"3f27e2cd89e2ba80.jpg\", \"image_links\": [\"e68f0f97a074bb16.jpg\", \"5a382f8d7bdbb198.jpg\", \"5a5969aa7404836f.jpg\", \"aacd65a0e77f3dee.jpg\", \"b11e060860a99b6d.jpg\", \"7e0edaeedd988b55.jpg\", \"222a7b5fab40184f.jpg\", \"3643faef202c2f9e.jpg\", \"3f27e2cd89e2ba80.jpg\", \"3f27e2cd89e2ba80.jpg\"]}, \"is_fully_booked\": false, \"people_liked\": {\"description\": null, \"title\": null}, \"average_cost_for_two_details\": {\"cost\": 1400, \"how_it_computed\": \"The cost for two is computed as follows: Average of 2 appetizers + 2 mains + 2 beverages + 1 dessert. The actual cost you incur at a restaurant might change depending on your appetite, or with changes in restaurant menu prices.\"}, \"is_dineout_available\": true}]\n",
            "==================================\u001b[1m Ai Message \u001b[0m==================================\n",
            "\n",
            "I found a romantic restaurant near you called **Minsk**. Here are the details:\n",
            "\n",
            "- **Location:** 212, 13th Main, 1st Cross, Aicobonagar, BTM Layout 1st Stage, BTM, Bangalore\n",
            "- **Rating:** 4.2 out of 5 (600 reviews)\n",
            "- **Opening Hours on Monday:** 12:00 PM - 12:00 AM\n",
            "- **Average Cost for Two:** ₹1400\n",
            "- **Contact Numbers:** +919164072727, +919164099066\n",
            "- **Dine-out Available:** Yes\n",
            "\n",
            "Would you like to make a reservation at Minsk for Monday evening?\n"
          ]
        },
        {
          "data": {
            "text/html": [
              "<pre style=\"white-space:pre;overflow-x:auto;line-height:normal;font-family:Menlo,'DejaVu Sans Mono',consolas,'Courier New',monospace\">\n",
              "<span style=\"font-weight: bold\">Assistant:</span>\n",
              "</pre>\n"
            ],
            "text/plain": [
              "\n",
              "\u001b[1mAssistant:\u001b[0m\n"
            ]
          },
          "metadata": {},
          "output_type": "display_data"
        },
        {
          "data": {
            "text/html": [
              "<pre style=\"white-space:pre;overflow-x:auto;line-height:normal;font-family:Menlo,'DejaVu Sans Mono',consolas,'Courier New',monospace\">I found a romantic restaurant near you called <span style=\"font-weight: bold\">Minsk</span>. Here are the details:                                         \n",
              "\n",
              "<span style=\"color: #808000; text-decoration-color: #808000; font-weight: bold\"> • </span><span style=\"font-weight: bold\">Location:</span> 212, 13th Main, 1st Cross, Aicobonagar, BTM Layout 1st Stage, BTM, Bangalore                          \n",
              "<span style=\"color: #808000; text-decoration-color: #808000; font-weight: bold\"> • </span><span style=\"font-weight: bold\">Rating:</span> 4.2 out of 5 (600 reviews)                                                                              \n",
              "<span style=\"color: #808000; text-decoration-color: #808000; font-weight: bold\"> • </span><span style=\"font-weight: bold\">Opening Hours on Monday:</span> 12:00 PM - 12:00 AM                                                                    \n",
              "<span style=\"color: #808000; text-decoration-color: #808000; font-weight: bold\"> • </span><span style=\"font-weight: bold\">Average Cost for Two:</span> ₹1400                                                                                     \n",
              "<span style=\"color: #808000; text-decoration-color: #808000; font-weight: bold\"> • </span><span style=\"font-weight: bold\">Contact Numbers:</span> +919164072727, +919164099066                                                                   \n",
              "<span style=\"color: #808000; text-decoration-color: #808000; font-weight: bold\"> • </span><span style=\"font-weight: bold\">Dine-out Available:</span> Yes                                                                                         \n",
              "\n",
              "Would you like to make a reservation at Minsk for Monday evening?                                                  \n",
              "</pre>\n"
            ],
            "text/plain": [
              "I found a romantic restaurant near you called \u001b[1mMinsk\u001b[0m. Here are the details:                                         \n",
              "\n",
              "\u001b[1;33m • \u001b[0m\u001b[1mLocation:\u001b[0m 212, 13th Main, 1st Cross, Aicobonagar, BTM Layout 1st Stage, BTM, Bangalore                          \n",
              "\u001b[1;33m • \u001b[0m\u001b[1mRating:\u001b[0m 4.2 out of 5 (600 reviews)                                                                              \n",
              "\u001b[1;33m • \u001b[0m\u001b[1mOpening Hours on Monday:\u001b[0m 12:00 PM - 12:00 AM                                                                    \n",
              "\u001b[1;33m • \u001b[0m\u001b[1mAverage Cost for Two:\u001b[0m ₹1400                                                                                     \n",
              "\u001b[1;33m • \u001b[0m\u001b[1mContact Numbers:\u001b[0m +919164072727, +919164099066                                                                   \n",
              "\u001b[1;33m • \u001b[0m\u001b[1mDine-out Available:\u001b[0m Yes                                                                                         \n",
              "\n",
              "Would you like to make a reservation at Minsk for Monday evening?                                                  \n"
            ]
          },
          "metadata": {},
          "output_type": "display_data"
        },
        {
          "name": "stdout",
          "output_type": "stream",
          "text": [
            "\n",
            "You: yes at 8pm \n"
          ]
        },
        {
          "data": {
            "text/html": [
              "<pre style=\"white-space:pre;overflow-x:auto;line-height:normal;font-family:Menlo,'DejaVu Sans Mono',consolas,'Courier New',monospace\"><span style=\"font-style: italic\">Processing</span><span style=\"color: #808000; text-decoration-color: #808000; font-style: italic\">...</span>\n",
              "</pre>\n"
            ],
            "text/plain": [
              "\u001b[3mProcessing\u001b[0m\u001b[3;33m...\u001b[0m\n"
            ]
          },
          "metadata": {},
          "output_type": "display_data"
        },
        {
          "name": "stdout",
          "output_type": "stream",
          "text": [
            "================================\u001b[1m Human Message \u001b[0m=================================\n",
            "\n",
            "yes at 8pm \n",
            "==================================\u001b[1m Ai Message \u001b[0m==================================\n",
            "Tool Calls:\n",
            "  book_dineout (call_XTwFEDOaSeIZ2ybPABKg6skn)\n",
            " Call ID: call_XTwFEDOaSeIZ2ybPABKg6skn\n",
            "  Args:\n",
            "    restaurant_name: Minsk\n",
            "    booking_time: 2025-03-17 20:00\n",
            "    party_size: 2\n",
            "TOOL EXECUTION - BOOK DINEOUT:\n",
            "USER ID: 1270834\n",
            "RESTAURANT: Minsk\n",
            "TIME: 2025-03-17 20:00\n",
            "PARTY SIZE: 2\n",
            "SPECIAL REQUESTS: None\n",
            "=================================\u001b[1m Tool Message \u001b[0m=================================\n",
            "Name: book_dineout\n",
            "\n",
            "Your reservation at Minsk for 2 people on 2025-03-17 20:00 has been confirmed. Confirmation code: DINEOUT-69827\n",
            "==================================\u001b[1m Ai Message \u001b[0m==================================\n",
            "\n",
            "I've booked a table for two at Minsk on Monday, March 17, 2025, at 8:00 PM. Enjoy your romantic evening! If there's anything else you need, feel free to ask.\n"
          ]
        },
        {
          "data": {
            "text/html": [
              "<pre style=\"white-space:pre;overflow-x:auto;line-height:normal;font-family:Menlo,'DejaVu Sans Mono',consolas,'Courier New',monospace\">\n",
              "<span style=\"font-weight: bold\">Assistant:</span>\n",
              "</pre>\n"
            ],
            "text/plain": [
              "\n",
              "\u001b[1mAssistant:\u001b[0m\n"
            ]
          },
          "metadata": {},
          "output_type": "display_data"
        },
        {
          "data": {
            "text/html": [
              "<pre style=\"white-space:pre;overflow-x:auto;line-height:normal;font-family:Menlo,'DejaVu Sans Mono',consolas,'Courier New',monospace\">I've booked a table for two at Minsk on Monday, March 17, 2025, at 8:00 PM. Enjoy your romantic evening! If there's\n",
              "anything else you need, feel free to ask.                                                                          \n",
              "</pre>\n"
            ],
            "text/plain": [
              "I've booked a table for two at Minsk on Monday, March 17, 2025, at 8:00 PM. Enjoy your romantic evening! If there's\n",
              "anything else you need, feel free to ask.                                                                          \n"
            ]
          },
          "metadata": {},
          "output_type": "display_data"
        },
        {
          "name": "stdout",
          "output_type": "stream",
          "text": [
            "\n",
            "You: for now please order pizza, best on to my address \n"
          ]
        },
        {
          "data": {
            "text/html": [
              "<pre style=\"white-space:pre;overflow-x:auto;line-height:normal;font-family:Menlo,'DejaVu Sans Mono',consolas,'Courier New',monospace\"><span style=\"font-style: italic\">Processing</span><span style=\"color: #808000; text-decoration-color: #808000; font-style: italic\">...</span>\n",
              "</pre>\n"
            ],
            "text/plain": [
              "\u001b[3mProcessing\u001b[0m\u001b[3;33m...\u001b[0m\n"
            ]
          },
          "metadata": {},
          "output_type": "display_data"
        },
        {
          "name": "stdout",
          "output_type": "stream",
          "text": [
            "================================\u001b[1m Human Message \u001b[0m=================================\n",
            "\n",
            "for now please order pizza, best on to my address \n",
            "==================================\u001b[1m Ai Message \u001b[0m==================================\n",
            "Tool Calls:\n",
            "  public_db_query (call_veEue4Ynm7Gecf8ntdA6bx8Y)\n",
            " Call ID: call_veEue4Ynm7Gecf8ntdA6bx8Y\n",
            "  Args:\n",
            "    query: best pizza delivery near BTM Layout, Bengaluru, Karnataka, India\n",
            "\n",
            "\n",
            "\u001b[1m> Entering new ArangoGraphQAChain chain...\u001b[0m\n",
            "AQL Query (1):\u001b[32;1m\u001b[1;3m\n",
            "WITH restaurants, cuisines, restaurant_cuisine\n",
            "FOR restaurant IN restaurants\n",
            "  FILTER CONTAINS(LOWER(restaurant.address.street), \"btm layout\") \n",
            "    AND CONTAINS(LOWER(restaurant.address.city), \"bangalore\")\n",
            "  FOR cuisine IN cuisines\n",
            "    FILTER CONTAINS(LOWER(cuisine.name), \"pizza\")\n",
            "    FOR rc IN restaurant_cuisine\n",
            "      FILTER rc._from == restaurant._id AND rc._to == cuisine._id\n",
            "      RETURN {\n",
            "        name: restaurant.name,\n",
            "        address: restaurant.address,\n",
            "        ratings: restaurant.ratings,\n",
            "        contact: restaurant.contact\n",
            "      }\n",
            "\u001b[0m\n",
            "AQL Result:\n",
            "\u001b[32;1m\u001b[1;3m[{'name': 'EatFit', 'address': {'city': 'Bangalore', 'country': 'India', 'latitude': 12.9124119, 'longitude': 77.606411, 'street': '688/C Thanish Corner, First Floor, 10TH Cross, 7th Main Btm Layout, B.B.M.P South, BTM, Bangalore'}, 'ratings': {'delivery': {'popularity': 432580, 'rating': 4.3, 'reviewCount': 100600}, 'dining': {'popularity': 0, 'rating': None, 'reviewCount': 0}}, 'contact': {'phone_numbers': ['Not available for this place']}}, {'name': 'Home Plate by EatFit', 'address': {'city': 'Bangalore', 'country': 'India', 'latitude': 12.9124119, 'longitude': 77.606411, 'street': '688/C Thanish Corner, First Floor, 10TH Cross, 7th Main Btm Layout, B.B.M.P South, BTM, Bangalore'}, 'ratings': {'delivery': {'popularity': 2796.7999999999997, 'rating': 3.8, 'reviewCount': 736}, 'dining': {'popularity': 0, 'rating': None, 'reviewCount': 0}}, 'contact': {'phone_numbers': ['Not available for this place']}}, {'name': 'ENSO - Sourdough Pizza By Nomad', 'address': {'city': 'Bangalore', 'country': 'India', 'latitude': 12.9122833628, 'longitude': 77.6270707565, 'street': '72/4, Roopena Agrahara, Madiwala Post, BTM Layout, Hosur Road, HSR, Bangalore'}, 'ratings': {'delivery': {'popularity': 2304.9, 'rating': 3.9, 'reviewCount': 591}, 'dining': {'popularity': 0, 'rating': None, 'reviewCount': 0}}, 'contact': {'phone_numbers': ['+918407081024']}}]\u001b[0m\n",
            "\n",
            "\u001b[1m> Finished chain.\u001b[0m\n",
            "=================================\u001b[1m Tool Message \u001b[0m=================================\n",
            "Name: public_db_query\n",
            "\n",
            "[{\"name\": \"EatFit\", \"address\": {\"city\": \"Bangalore\", \"country\": \"India\", \"latitude\": 12.9124119, \"longitude\": 77.606411, \"street\": \"688/C Thanish Corner, First Floor, 10TH Cross, 7th Main Btm Layout, B.B.M.P South, BTM, Bangalore\"}, \"ratings\": {\"delivery\": {\"popularity\": 432580, \"rating\": 4.3, \"reviewCount\": 100600}, \"dining\": {\"popularity\": 0, \"rating\": null, \"reviewCount\": 0}}, \"contact\": {\"phone_numbers\": [\"Not available for this place\"]}}, {\"name\": \"Home Plate by EatFit\", \"address\": {\"city\": \"Bangalore\", \"country\": \"India\", \"latitude\": 12.9124119, \"longitude\": 77.606411, \"street\": \"688/C Thanish Corner, First Floor, 10TH Cross, 7th Main Btm Layout, B.B.M.P South, BTM, Bangalore\"}, \"ratings\": {\"delivery\": {\"popularity\": 2796.7999999999997, \"rating\": 3.8, \"reviewCount\": 736}, \"dining\": {\"popularity\": 0, \"rating\": null, \"reviewCount\": 0}}, \"contact\": {\"phone_numbers\": [\"Not available for this place\"]}}, {\"name\": \"ENSO - Sourdough Pizza By Nomad\", \"address\": {\"city\": \"Bangalore\", \"country\": \"India\", \"latitude\": 12.9122833628, \"longitude\": 77.6270707565, \"street\": \"72/4, Roopena Agrahara, Madiwala Post, BTM Layout, Hosur Road, HSR, Bangalore\"}, \"ratings\": {\"delivery\": {\"popularity\": 2304.9, \"rating\": 3.9, \"reviewCount\": 591}, \"dining\": {\"popularity\": 0, \"rating\": null, \"reviewCount\": 0}}, \"contact\": {\"phone_numbers\": [\"+918407081024\"]}}]\n",
            "==================================\u001b[1m Ai Message \u001b[0m==================================\n",
            "Tool Calls:\n",
            "  place_order (call_tW1jalWD4qeu0MURLf9nI234)\n",
            " Call ID: call_tW1jalWD4qeu0MURLf9nI234\n",
            "  Args:\n",
            "    restaurant_name: EatFit\n",
            "    dish_names: ['Best Pizza']\n",
            "    delivery_address: BTM Layout, Bengaluru, Karnataka, India\n",
            "    delivery_time: ASAP\n",
            "TOOL EXECUTION - PLACE ORDER:\n",
            "USER ID: 1270834\n",
            "RESTAURANT: EatFit\n",
            "DISHES: ['Best Pizza']\n",
            "DELIVERY ADDRESS: BTM Layout, Bengaluru, Karnataka, India\n",
            "DELIVERY TIME: ASAP\n",
            "PAYMENT METHOD: Credit Card\n",
            "SPECIAL INSTRUCTIONS: None\n",
            "=================================\u001b[1m Tool Message \u001b[0m=================================\n",
            "Name: place_order\n",
            "\n",
            "Your order from EatFit for Best Pizza has been confirmed. The food will be delivered to BTM Layout, Bengaluru, Karnataka, India ASAP. Order number: ORDER-41111\n",
            "==================================\u001b[1m Ai Message \u001b[0m==================================\n",
            "\n",
            "I've ordered the best pizza from EatFit to be delivered to your address in BTM Layout, Bengaluru. It will arrive shortly. Enjoy your meal! If there's anything else you need, just let me know.\n"
          ]
        },
        {
          "data": {
            "text/html": [
              "<pre style=\"white-space:pre;overflow-x:auto;line-height:normal;font-family:Menlo,'DejaVu Sans Mono',consolas,'Courier New',monospace\">\n",
              "<span style=\"font-weight: bold\">Assistant:</span>\n",
              "</pre>\n"
            ],
            "text/plain": [
              "\n",
              "\u001b[1mAssistant:\u001b[0m\n"
            ]
          },
          "metadata": {},
          "output_type": "display_data"
        },
        {
          "data": {
            "text/html": [
              "<pre style=\"white-space:pre;overflow-x:auto;line-height:normal;font-family:Menlo,'DejaVu Sans Mono',consolas,'Courier New',monospace\">I've ordered the best pizza from EatFit to be delivered to your address in BTM Layout, Bengaluru. It will arrive   \n",
              "shortly. Enjoy your meal! If there's anything else you need, just let me know.                                     \n",
              "</pre>\n"
            ],
            "text/plain": [
              "I've ordered the best pizza from EatFit to be delivered to your address in BTM Layout, Bengaluru. It will arrive   \n",
              "shortly. Enjoy your meal! If there's anything else you need, just let me know.                                     \n"
            ]
          },
          "metadata": {},
          "output_type": "display_data"
        },
        {
          "data": {
            "text/html": [
              "<pre style=\"white-space:pre;overflow-x:auto;line-height:normal;font-family:Menlo,'DejaVu Sans Mono',consolas,'Courier New',monospace\">\n",
              "\n",
              "<span style=\"color: #008000; text-decoration-color: #008000; font-weight: bold\">Exiting Assistant. Goodbye!</span>\n",
              "</pre>\n"
            ],
            "text/plain": [
              "\n",
              "\n",
              "\u001b[1;32mExiting Assistant. Goodbye!\u001b[0m\n"
            ]
          },
          "metadata": {},
          "output_type": "display_data"
        }
      ],
      "source": [
        "agent_openai.run_interactive(thread_id=str(uuid.uuid4()), debug=True)"
      ]
    },
    {
      "cell_type": "code",
      "execution_count": null,
      "metadata": {
        "colab": {
          "base_uri": "https://localhost:8080/",
          "height": 1000
        },
        "id": "JFThL9Fh5xzZ",
        "outputId": "aecba9aa-97cb-4401-e7d1-5411b4fe0502"
      },
      "outputs": [
        {
          "data": {
            "text/html": [
              "<pre style=\"white-space:pre;overflow-x:auto;line-height:normal;font-family:Menlo,'DejaVu Sans Mono',consolas,'Courier New',monospace\">┏━━━━━━━━━━━━━━━━━━━━━━━━━━━━━━━━━━━━━━━━━━━━━━━━━━━━━━━━━━━━━━━━━━━━━━━━━━━━━━━━━━━━━━━━━━━━━━━━━━━━━━━━━━━━━━━━━┓\n",
              "┃                                          <span style=\"font-weight: bold\">AI Assistant Interactive Mode</span>                                          ┃\n",
              "┗━━━━━━━━━━━━━━━━━━━━━━━━━━━━━━━━━━━━━━━━━━━━━━━━━━━━━━━━━━━━━━━━━━━━━━━━━━━━━━━━━━━━━━━━━━━━━━━━━━━━━━━━━━━━━━━━━┛\n",
              "</pre>\n"
            ],
            "text/plain": [
              "┏━━━━━━━━━━━━━━━━━━━━━━━━━━━━━━━━━━━━━━━━━━━━━━━━━━━━━━━━━━━━━━━━━━━━━━━━━━━━━━━━━━━━━━━━━━━━━━━━━━━━━━━━━━━━━━━━━┓\n",
              "┃                                          \u001b[1mAI Assistant Interactive Mode\u001b[0m                                          ┃\n",
              "┗━━━━━━━━━━━━━━━━━━━━━━━━━━━━━━━━━━━━━━━━━━━━━━━━━━━━━━━━━━━━━━━━━━━━━━━━━━━━━━━━━━━━━━━━━━━━━━━━━━━━━━━━━━━━━━━━━┛\n"
            ]
          },
          "metadata": {},
          "output_type": "display_data"
        },
        {
          "data": {
            "text/html": [
              "<pre style=\"white-space:pre;overflow-x:auto;line-height:normal;font-family:Menlo,'DejaVu Sans Mono',consolas,'Courier New',monospace\">Type your messages below. Press Ctrl+C to exit.                                                                    \n",
              "</pre>\n"
            ],
            "text/plain": [
              "Type your messages below. Press Ctrl+C to exit.                                                                    \n"
            ]
          },
          "metadata": {},
          "output_type": "display_data"
        },
        {
          "data": {
            "text/html": [
              "<pre style=\"white-space:pre;overflow-x:auto;line-height:normal;font-family:Menlo,'DejaVu Sans Mono',consolas,'Courier New',monospace\"><span style=\"color: #808000; text-decoration-color: #808000\">───────────────────────────────────────────────────────────────────────────────────────────────────────────────────</span>\n",
              "</pre>\n"
            ],
            "text/plain": [
              "\u001b[33m───────────────────────────────────────────────────────────────────────────────────────────────────────────────────\u001b[0m\n"
            ]
          },
          "metadata": {},
          "output_type": "display_data"
        },
        {
          "name": "stdout",
          "output_type": "stream",
          "text": [
            "\n",
            "You: show the top 5 dishes based on popularity, also show there prices in a chart\n"
          ]
        },
        {
          "data": {
            "text/html": [
              "<pre style=\"white-space:pre;overflow-x:auto;line-height:normal;font-family:Menlo,'DejaVu Sans Mono',consolas,'Courier New',monospace\"><span style=\"font-style: italic\">Processing</span><span style=\"color: #808000; text-decoration-color: #808000; font-style: italic\">...</span>\n",
              "</pre>\n"
            ],
            "text/plain": [
              "\u001b[3mProcessing\u001b[0m\u001b[3;33m...\u001b[0m\n"
            ]
          },
          "metadata": {},
          "output_type": "display_data"
        },
        {
          "name": "stdout",
          "output_type": "stream",
          "text": [
            "================================\u001b[1m Human Message \u001b[0m=================================\n",
            "\n",
            "show the top 5 dishes based on popularity, also show there prices in a chart\n",
            "==================================\u001b[1m Ai Message \u001b[0m==================================\n",
            "\n",
            "[{'text': \"I'll help you find the top 5 dishes based on popularity and display their prices in a chart. Let me search the public database for this information.\", 'type': 'text'}, {'id': 'toolu_01MpGtf6xBKLse3eJbL5y3kU', 'input': {'query': 'Find the top 5 dishes based on popularity and their prices'}, 'name': 'public_db_query', 'type': 'tool_use'}]\n",
            "Tool Calls:\n",
            "  public_db_query (toolu_01MpGtf6xBKLse3eJbL5y3kU)\n",
            " Call ID: toolu_01MpGtf6xBKLse3eJbL5y3kU\n",
            "  Args:\n",
            "    query: Find the top 5 dishes based on popularity and their prices\n",
            "\n",
            "\n",
            "\u001b[1m> Entering new ArangoGraphQAChain chain...\u001b[0m\n",
            "AQL Query (1):\u001b[32;1m\u001b[1;3m\n",
            "WITH dishes, restaurants, restaurant_dish\n",
            "FOR dish IN dishes\n",
            "    FILTER dish.rating.popularity != null\n",
            "    SORT dish.rating.popularity DESC\n",
            "    LIMIT 5\n",
            "    RETURN {\n",
            "        dish_name: dish.name,\n",
            "        price: dish.price,\n",
            "        popularity: dish.rating.popularity,\n",
            "        description: dish.desc\n",
            "    }\n",
            "\u001b[0m\n",
            "AQL Query Execution Error: \n",
            "\u001b[33;1m\u001b[1;3msyntax error, unexpected DESC keyword, expecting identifier or bind parameter or bind data source parameter near 'desc\n",
            "    }\n",
            "' at position 11:27\u001b[0m\n",
            "\n",
            "AQL Query (2):\u001b[32;1m\u001b[1;3m\n",
            "WITH dishes, restaurants, restaurant_dish\n",
            "FOR dish IN dishes\n",
            "    FILTER dish.rating.popularity != null\n",
            "    SORT dish.rating.popularity DESC\n",
            "    LIMIT 5\n",
            "    RETURN {\n",
            "        dish_name: dish.name,\n",
            "        price: dish.price,\n",
            "        popularity: dish.rating.popularity,\n",
            "        description: dish.`desc`\n",
            "    }\n",
            "\u001b[0m\n",
            "AQL Result:\n",
            "\u001b[32;1m\u001b[1;3m[{'dish_name': 'Meghana Special Biryani', 'price': 370, 'popularity': 12987.52005798, 'description': 'The chicken is cooked with an extra coating of an egg along with our in-house andra spice blend. it is moderately spicy and serves two.'}, {'dish_name': '2 Vada', 'price': 69, 'popularity': 12416.640111359999, 'description': 'Served with sambar and chutney. No soda used in the preparation.'}, {'dish_name': 'Special Boneless Chicken Biryani', 'price': 200, 'popularity': 12133.39984035, 'description': 'Marinated boneless chicken and layered with parboiled rice, herbs, saffron milk & then ghee.'}, {'dish_name': 'Idli (2 Pcs).', 'price': 59, 'popularity': 11331.5998509, 'description': 'Served with chutney and sambar.'}, {'dish_name': 'Masala Dosa with Idli [2 Pieces]', 'price': 129, 'popularity': 10253.58025751, 'description': 'Served with sambar and chutney. No soda used in the preparation.'}]\u001b[0m\n",
            "\n",
            "\u001b[1m> Finished chain.\u001b[0m\n",
            "=================================\u001b[1m Tool Message \u001b[0m=================================\n",
            "Name: public_db_query\n",
            "\n",
            "[{\"dish_name\": \"Meghana Special Biryani\", \"price\": 370, \"popularity\": 12987.52005798, \"description\": \"The chicken is cooked with an extra coating of an egg along with our in-house andra spice blend. it is moderately spicy and serves two.\"}, {\"dish_name\": \"2 Vada\", \"price\": 69, \"popularity\": 12416.640111359999, \"description\": \"Served with sambar and chutney. No soda used in the preparation.\"}, {\"dish_name\": \"Special Boneless Chicken Biryani\", \"price\": 200, \"popularity\": 12133.39984035, \"description\": \"Marinated boneless chicken and layered with parboiled rice, herbs, saffron milk & then ghee.\"}, {\"dish_name\": \"Idli (2 Pcs).\", \"price\": 59, \"popularity\": 11331.5998509, \"description\": \"Served with chutney and sambar.\"}, {\"dish_name\": \"Masala Dosa with Idli [2 Pieces]\", \"price\": 129, \"popularity\": 10253.58025751, \"description\": \"Served with sambar and chutney. No soda used in the preparation.\"}]\n",
            "==================================\u001b[1m Ai Message \u001b[0m==================================\n",
            "\n",
            "[{'text': \"Great! I've found the top 5 dishes based on popularity. Let me visualize this data in a chart for you using the NetworkX tool.\", 'type': 'text'}, {'id': 'toolu_01AQ5GYbntBb6SVxAhn2u2MK', 'input': {'query': 'import matplotlib.pyplot as plt\\nimport numpy as np\\n\\n# Data from the query results\\ndishes = [\"Meghana Special Biryani\", \"2 Vada\", \"Special Boneless Chicken Biryani\", \"Idli (2 Pcs).\", \"Masala Dosa with Idli [2 Pieces]\"]\\nprices = [370, 69, 200, 59, 129]\\n\\n# Create the bar chart\\nplt.figure(figsize=(12, 6))\\nbars = plt.bar(dishes, prices, color=\\'skyblue\\')\\n\\n# Add price labels on top of each bar\\nfor bar in bars:\\n    height = bar.get_height()\\n    plt.text(bar.get_x() + bar.get_width()/2., height + 5,\\n            f\\'₹{height}\\', ha=\\'center\\', va=\\'bottom\\', fontweight=\\'bold\\')\\n\\n# Customize the chart\\nplt.title(\\'Top 5 Most Popular Dishes and Their Prices\\', fontsize=16)\\nplt.xlabel(\\'Dish Name\\', fontsize=14)\\nplt.ylabel(\\'Price (₹)\\', fontsize=14)\\nplt.xticks(rotation=45, ha=\\'right\\')\\nplt.tight_layout()\\n\\n# Display the chart\\nplt.show()'}, 'name': 'text_to_nx_algorithm_for_public_db', 'type': 'tool_use'}]\n",
            "Tool Calls:\n",
            "  text_to_nx_algorithm_for_public_db (toolu_01AQ5GYbntBb6SVxAhn2u2MK)\n",
            " Call ID: toolu_01AQ5GYbntBb6SVxAhn2u2MK\n",
            "  Args:\n",
            "    query: import matplotlib.pyplot as plt\n",
            "import numpy as np\n",
            "\n",
            "# Data from the query results\n",
            "dishes = [\"Meghana Special Biryani\", \"2 Vada\", \"Special Boneless Chicken Biryani\", \"Idli (2 Pcs).\", \"Masala Dosa with Idli [2 Pieces]\"]\n",
            "prices = [370, 69, 200, 59, 129]\n",
            "\n",
            "# Create the bar chart\n",
            "plt.figure(figsize=(12, 6))\n",
            "bars = plt.bar(dishes, prices, color='skyblue')\n",
            "\n",
            "# Add price labels on top of each bar\n",
            "for bar in bars:\n",
            "    height = bar.get_height()\n",
            "    plt.text(bar.get_x() + bar.get_width()/2., height + 5,\n",
            "            f'₹{height}', ha='center', va='bottom', fontweight='bold')\n",
            "\n",
            "# Customize the chart\n",
            "plt.title('Top 5 Most Popular Dishes and Their Prices', fontsize=16)\n",
            "plt.xlabel('Dish Name', fontsize=14)\n",
            "plt.ylabel('Price (₹)', fontsize=14)\n",
            "plt.xticks(rotation=45, ha='right')\n",
            "plt.tight_layout()\n",
            "\n",
            "# Display the chart\n",
            "plt.show()\n",
            "\n",
            "\n",
            "\u001b[1m> Entering new ArangoNetworkxQAChain chain...\u001b[0m\n",
            "\n",
            "Attempt 1/3: Generating NetworkX code...Generated NetworkX code:\n",
            "\u001b[33;1m\u001b[1;3mimport matplotlib.pyplot as plt\n",
            "import numpy as np\n",
            "\n",
            "# Get all dish nodes from the graph\n",
            "dish_nodes = [node for node in G_adb.nodes() if node.startswith('dishes/')]\n",
            "\n",
            "# Create a dictionary to store dish popularity and price\n",
            "dish_data = {}\n",
            "\n",
            "for dish_node in dish_nodes:\n",
            "    # Get dish attributes\n",
            "    dish_attrs = G_adb.nodes[dish_node]\n",
            "    \n",
            "    # Check if the dish has the required attributes\n",
            "    if 'name' in dish_attrs and 'price' in dish_attrs and 'rating' in dish_attrs:\n",
            "        dish_name = dish_attrs['name']\n",
            "        dish_price = dish_attrs['price']\n",
            "        \n",
            "        # Get popularity from rating dictionary if available\n",
            "        popularity = 0\n",
            "        if dish_attrs['rating'] and 'popularity' in dish_attrs['rating']:\n",
            "            popularity = dish_attrs['rating']['popularity'] or 0\n",
            "        \n",
            "        dish_data[dish_node] = {\n",
            "            'name': dish_name,\n",
            "            'price': dish_price,\n",
            "            'popularity': popularity\n",
            "        }\n",
            "\n",
            "# Sort dishes by popularity in descending order\n",
            "sorted_dishes = sorted(dish_data.items(), key=lambda x: x[1]['popularity'], reverse=True)\n",
            "\n",
            "# Get top 5 most popular dishes\n",
            "top_5_dishes = sorted_dishes[:5]\n",
            "\n",
            "# Extract dish names and prices for the chart\n",
            "dish_names = [dish[1]['name'] for dish in top_5_dishes]\n",
            "dish_prices = [dish[1]['price'] for dish in top_5_dishes]\n",
            "\n",
            "# Create the bar chart\n",
            "plt.figure(figsize=(12, 6))\n",
            "bars = plt.bar(dish_names, dish_prices, color='skyblue')\n",
            "\n",
            "# Add price labels on top of each bar\n",
            "for bar in bars:\n",
            "    height = bar.get_height()\n",
            "    plt.text(bar.get_x() + bar.get_width()/2., height + 5,\n",
            "            f'₹{height}', ha='center', va='bottom', fontweight='bold')\n",
            "\n",
            "# Customize the chart\n",
            "plt.title('Top 5 Most Popular Dishes and Their Prices', fontsize=16)\n",
            "plt.xlabel('Dish Name', fontsize=14)\n",
            "plt.ylabel('Price (₹)', fontsize=14)\n",
            "plt.xticks(rotation=45, ha='right')\n",
            "plt.tight_layout()\n",
            "\n",
            "# Display the chart\n",
            "plt.show()\n",
            "\n",
            "# Set the final result\n",
            "FINAL_RESULT = {\n",
            "    'top_dishes': dish_names,\n",
            "    'prices': dish_prices\n",
            "}\u001b[0m\n",
            "Executing NetworkX code...\n"
          ]
        },
        {
          "data": {
            "image/png": "[encoded data removed]",
            "text/plain": [
              "<Figure size 1200x600 with 1 Axes>"
            ]
          },
          "metadata": {},
          "output_type": "display_data"
        },
        {
          "name": "stdout",
          "output_type": "stream",
          "text": [
            "NetworkX code executed successfully!\n",
            "\n",
            "\u001b[1m> Finished chain.\u001b[0m\n",
            "=================================\u001b[1m Tool Message \u001b[0m=================================\n",
            "Name: text_to_nx_algorithm_for_public_db\n",
            "\n",
            "{\"top_dishes\": [\"Meghana Special Biryani\", \"2 Vada\", \"Special Boneless Chicken Biryani\", \"Idli (2 Pcs).\", \"Masala Dosa with Idli [2 Pieces]\"], \"prices\": [370, 69, 200, 59, 129]}\n",
            "==================================\u001b[1m Ai Message \u001b[0m==================================\n",
            "\n",
            "Here are the top 5 dishes based on popularity along with their prices:\n",
            "\n",
            "---\n",
            "\n",
            "## Top 5 Most Popular Dishes\n",
            "\n",
            "1. **Meghana Special Biryani** - ₹370\n",
            "   - Description: The chicken is cooked with an extra coating of an egg along with our in-house andra spice blend. It is moderately spicy and serves two.\n",
            "\n",
            "2. **2 Vada** - ₹69\n",
            "   - Description: Served with sambar and chutney. No soda used in the preparation.\n",
            "\n",
            "3. **Special Boneless Chicken Biryani** - ₹200\n",
            "   - Description: Marinated boneless chicken and layered with parboiled rice, herbs, saffron milk & then ghee.\n",
            "\n",
            "4. **Idli (2 Pcs.)** - ₹59\n",
            "   - Description: Served with chutney and sambar.\n",
            "\n",
            "5. **Masala Dosa with Idli [2 Pieces]** - ₹129\n",
            "   - Description: Served with sambar and chutney. No soda used in the preparation.\n",
            "\n",
            "I've created a chart showing these dishes and their prices. The visualization shows that Meghana Special Biryani is the most expensive at ₹370, while Idli (2 Pcs.) is the most affordable at ₹59.\n",
            "\n",
            "---\n",
            "\n",
            "Would you like me to help you place an order for any of these popular dishes, or would you prefer to see more information about any specific restaurant that serves these dishes?\n"
          ]
        },
        {
          "data": {
            "text/html": [
              "<pre style=\"white-space:pre;overflow-x:auto;line-height:normal;font-family:Menlo,'DejaVu Sans Mono',consolas,'Courier New',monospace\">\n",
              "<span style=\"font-weight: bold\">Assistant:</span>\n",
              "</pre>\n"
            ],
            "text/plain": [
              "\n",
              "\u001b[1mAssistant:\u001b[0m\n"
            ]
          },
          "metadata": {},
          "output_type": "display_data"
        },
        {
          "data": {
            "text/html": [
              "<pre style=\"white-space:pre;overflow-x:auto;line-height:normal;font-family:Menlo,'DejaVu Sans Mono',consolas,'Courier New',monospace\">Here are the top 5 dishes based on popularity along with their prices:                                             \n",
              "\n",
              "<span style=\"color: #808000; text-decoration-color: #808000\">───────────────────────────────────────────────────────────────────────────────────────────────────────────────────</span>\n",
              "\n",
              "                                             <span style=\"font-weight: bold; text-decoration: underline\">Top 5 Most Popular Dishes</span>                                             \n",
              "\n",
              "<span style=\"color: #808000; text-decoration-color: #808000; font-weight: bold\"> 1 </span><span style=\"font-weight: bold\">Meghana Special Biryani</span> - ₹370                                                                                  \n",
              "<span style=\"color: #808000; text-decoration-color: #808000; font-weight: bold\">    • </span>Description: The chicken is cooked with an extra coating of an egg along with our in-house andra spice blend.\n",
              "<span style=\"color: #808000; text-decoration-color: #808000; font-weight: bold\">      </span>It is moderately spicy and serves two.                                                                       \n",
              "<span style=\"color: #808000; text-decoration-color: #808000; font-weight: bold\"> 2 </span><span style=\"font-weight: bold\">2 Vada</span> - ₹69                                                                                                    \n",
              "<span style=\"color: #808000; text-decoration-color: #808000; font-weight: bold\">    • </span>Description: Served with sambar and chutney. No soda used in the preparation.                                \n",
              "<span style=\"color: #808000; text-decoration-color: #808000; font-weight: bold\"> 3 </span><span style=\"font-weight: bold\">Special Boneless Chicken Biryani</span> - ₹200                                                                         \n",
              "<span style=\"color: #808000; text-decoration-color: #808000; font-weight: bold\">    • </span>Description: Marinated boneless chicken and layered with parboiled rice, herbs, saffron milk &amp; then ghee.    \n",
              "<span style=\"color: #808000; text-decoration-color: #808000; font-weight: bold\"> 4 </span><span style=\"font-weight: bold\">Idli (2 Pcs.)</span> - ₹59                                                                                             \n",
              "<span style=\"color: #808000; text-decoration-color: #808000; font-weight: bold\">    • </span>Description: Served with chutney and sambar.                                                                 \n",
              "<span style=\"color: #808000; text-decoration-color: #808000; font-weight: bold\"> 5 </span><span style=\"font-weight: bold\">Masala Dosa with Idli [2 Pieces]</span> - ₹129                                                                         \n",
              "<span style=\"color: #808000; text-decoration-color: #808000; font-weight: bold\">    • </span>Description: Served with sambar and chutney. No soda used in the preparation.                                \n",
              "\n",
              "I've created a chart showing these dishes and their prices. The visualization shows that Meghana Special Biryani is\n",
              "the most expensive at ₹370, while Idli (2 Pcs.) is the most affordable at ₹59.                                     \n",
              "\n",
              "<span style=\"color: #808000; text-decoration-color: #808000\">───────────────────────────────────────────────────────────────────────────────────────────────────────────────────</span>\n",
              "Would you like me to help you place an order for any of these popular dishes, or would you prefer to see more      \n",
              "information about any specific restaurant that serves these dishes?                                                \n",
              "</pre>\n"
            ],
            "text/plain": [
              "Here are the top 5 dishes based on popularity along with their prices:                                             \n",
              "\n",
              "\u001b[33m───────────────────────────────────────────────────────────────────────────────────────────────────────────────────\u001b[0m\n",
              "\n",
              "                                             \u001b[1;4mTop 5 Most Popular Dishes\u001b[0m                                             \n",
              "\n",
              "\u001b[1;33m 1 \u001b[0m\u001b[1mMeghana Special Biryani\u001b[0m - ₹370                                                                                  \n",
              "\u001b[1;33m   \u001b[0m\u001b[1;33m • \u001b[0mDescription: The chicken is cooked with an extra coating of an egg along with our in-house andra spice blend.\n",
              "\u001b[1;33m   \u001b[0m\u001b[1;33m   \u001b[0mIt is moderately spicy and serves two.                                                                       \n",
              "\u001b[1;33m 2 \u001b[0m\u001b[1m2 Vada\u001b[0m - ₹69                                                                                                    \n",
              "\u001b[1;33m   \u001b[0m\u001b[1;33m • \u001b[0mDescription: Served with sambar and chutney. No soda used in the preparation.                                \n",
              "\u001b[1;33m 3 \u001b[0m\u001b[1mSpecial Boneless Chicken Biryani\u001b[0m - ₹200                                                                         \n",
              "\u001b[1;33m   \u001b[0m\u001b[1;33m • \u001b[0mDescription: Marinated boneless chicken and layered with parboiled rice, herbs, saffron milk & then ghee.    \n",
              "\u001b[1;33m 4 \u001b[0m\u001b[1mIdli (2 Pcs.)\u001b[0m - ₹59                                                                                             \n",
              "\u001b[1;33m   \u001b[0m\u001b[1;33m • \u001b[0mDescription: Served with chutney and sambar.                                                                 \n",
              "\u001b[1;33m 5 \u001b[0m\u001b[1mMasala Dosa with Idli [2 Pieces]\u001b[0m - ₹129                                                                         \n",
              "\u001b[1;33m   \u001b[0m\u001b[1;33m • \u001b[0mDescription: Served with sambar and chutney. No soda used in the preparation.                                \n",
              "\n",
              "I've created a chart showing these dishes and their prices. The visualization shows that Meghana Special Biryani is\n",
              "the most expensive at ₹370, while Idli (2 Pcs.) is the most affordable at ₹59.                                     \n",
              "\n",
              "\u001b[33m───────────────────────────────────────────────────────────────────────────────────────────────────────────────────\u001b[0m\n",
              "Would you like me to help you place an order for any of these popular dishes, or would you prefer to see more      \n",
              "information about any specific restaurant that serves these dishes?                                                \n"
            ]
          },
          "metadata": {},
          "output_type": "display_data"
        },
        {
          "data": {
            "text/html": [
              "<pre style=\"white-space:pre;overflow-x:auto;line-height:normal;font-family:Menlo,'DejaVu Sans Mono',consolas,'Courier New',monospace\">\n",
              "\n",
              "<span style=\"color: #008000; text-decoration-color: #008000; font-weight: bold\">Exiting Assistant. Goodbye!</span>\n",
              "</pre>\n"
            ],
            "text/plain": [
              "\n",
              "\n",
              "\u001b[1;32mExiting Assistant. Goodbye!\u001b[0m\n"
            ]
          },
          "metadata": {},
          "output_type": "display_data"
        }
      ],
      "source": [
        "agent_claude.run_interactive(thread_id=str(uuid.uuid4()), debug=True)"
      ]
    },
    {
      "cell_type": "markdown",
      "metadata": {
        "id": "yLQu9mjQjLE5"
      },
      "source": []
    }
  ],
  "metadata": {
    "colab": {
      "provenance": []
    },
    "kernelspec": {
      "display_name": "Python 3",
      "name": "python3"
    },
    "language_info": {
      "name": "python"
    }
  },
  "nbformat": 4,
  "nbformat_minor": 0
}
