{
 "cells": [
  {
   "cell_type": "code",
   "execution_count": null,
   "id": "0fd67ecf",
   "metadata": {},
   "outputs": [],
   "source": [
    "# Initial cell\n",
    "print('Hello, world!')"
   ]
  },
  {
   "cell_type": "markdown",
   "id": "3a03d724",
   "metadata": {},
   "source": [
    "## This is a markdown heading"
   ]
  },
  {
   "cell_type": "markdown",
   "id": "d3e8c7e9",
   "metadata": {},
   "source": [
    "## Updated markdown heading"
   ]
  }
 ],
 "metadata": {},
 "nbformat": 4,
 "nbformat_minor": 5
}
